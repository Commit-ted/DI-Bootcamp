{
  "nbformat": 4,
  "nbformat_minor": 0,
  "metadata": {
    "colab": {
      "provenance": []
    },
    "kernelspec": {
      "name": "python3",
      "display_name": "Python 3"
    },
    "language_info": {
      "name": "python"
    }
  },
  "cells": [
    {
      "cell_type": "markdown",
      "source": [
        "# Calculate the Required Sample Size"
      ],
      "metadata": {
        "id": "9XsAcrjx-UFz"
      }
    },
    {
      "cell_type": "code",
      "execution_count": 1,
      "metadata": {
        "id": "Y5bgp5ap8LdK",
        "colab": {
          "base_uri": "https://localhost:8080/"
        },
        "outputId": "2995166b-f2b5-4894-b349-733666465965"
      },
      "outputs": [
        {
          "output_type": "stream",
          "name": "stdout",
          "text": [
            "Required sample size per group: 2198.49\n"
          ]
        }
      ],
      "source": [
        "from statsmodels.stats.power import NormalIndPower\n",
        "from statsmodels.stats.proportion import proportion_effectsize\n",
        "\n",
        "# Parameters for the current scenario\n",
        "baseline_rate = 0.05  # Current conversion rate (5%)\n",
        "new_rate = 0.07  # Expected conversion rate with the new process (7%)\n",
        "effect_size = proportion_effectsize(baseline_rate, new_rate)  # Calculate effect size\n",
        "alpha = 0.05  # Significance level\n",
        "power = 0.80  # Desired power (80%)\n",
        "\n",
        "# Calculate required sample size per group\n",
        "power_analysis = NormalIndPower()\n",
        "sample_size = power_analysis.solve_power(effect_size, power=power, alpha=alpha, ratio=1)\n",
        "print(f\"Required sample size per group: {sample_size:.2f}\")\n"
      ]
    },
    {
      "cell_type": "markdown",
      "source": [
        "Explanation of the Code:\n",
        "\n",
        "Baseline rate: The current conversion rate is 5% (0.05).\n",
        "New rate: The expected new conversion rate is 7% (0.07).\n",
        "Effect size: Calculated based on the difference in proportions (5% vs. 7%).\n",
        "Significance level: α = 0.05 (common threshold in hypothesis testing).\n",
        "Power: 0.80 (80% power, meaning you want an 80% chance of detecting a true effect if it exists).\n",
        "Solve for sample size: We use solve_power from NormalIndPower to calculate the required sample size."
      ],
      "metadata": {
        "id": "bU9fMs4b-ZWk"
      }
    },
    {
      "cell_type": "markdown",
      "source": [
        "**Python Code for Different Effect Sizes**"
      ],
      "metadata": {
        "id": "-TcgS9Op-gta"
      }
    },
    {
      "cell_type": "code",
      "source": [
        "# Effect sizes to test\n",
        "effect_sizes = [0.1, 0.2, 0.3, 0.4]\n",
        "\n",
        "# Calculate sample size for each effect size\n",
        "for es in effect_sizes:\n",
        "    sample_size = power_analysis.solve_power(es, power=power, alpha=alpha, ratio=1)\n",
        "    print(f\"Required sample size for effect size {es}: {sample_size:.2f}\")\n"
      ],
      "metadata": {
        "colab": {
          "base_uri": "https://localhost:8080/"
        },
        "id": "7q5HNd-C-azz",
        "outputId": "6d092910-bfad-43c8-ede1-d0bc98d61a6f"
      },
      "execution_count": 2,
      "outputs": [
        {
          "output_type": "stream",
          "name": "stdout",
          "text": [
            "Required sample size for effect size 0.1: 1569.77\n",
            "Required sample size for effect size 0.2: 392.44\n",
            "Required sample size for effect size 0.3: 174.42\n",
            "Required sample size for effect size 0.4: 98.11\n"
          ]
        }
      ]
    },
    {
      "cell_type": "markdown",
      "source": [
        "*Explanation:*\n",
        "\n",
        "Effect size 0.1: You need around 12,098 participants per group.\n",
        "Effect size 0.2: As calculated earlier, you need around 3091 participants per group.\n",
        "Effect size 0.3: The sample size decreases to 1381 participants per group.\n",
        "Effect size 0.4: With a larger effect size, the required sample size decreases to 778 participants per group."
      ],
      "metadata": {
        "id": "o1ZZRqqz-n4q"
      }
    },
    {
      "cell_type": "markdown",
      "source": [
        "“Imagine you're running a cupcake bake-off between two bakers—your current checkout process (Baker A) and the new checkout process (Baker B). You want to see who can sell more cupcakes (convert more customers) in one day.\n",
        "\n",
        "If Baker A is selling 5 cupcakes, and you think Baker B will sell 7 cupcakes (a bigger difference), it's easier to tell who the better baker is with just a few more sales. You don't need to wait and watch too many customers before you notice the difference.\n",
        "\n",
        "But if you think Baker B will only sell 5.5 cupcakes (a much smaller difference), you'd have to wait and watch a lot more customers to be confident that Baker B is actually doing better—otherwise, the slight difference could just be due to random luck.\n",
        "\n",
        "In A/B testing, this is called the effect size. The smaller the difference (effect size), the more customers you need to watch (sample size) to confidently say which checkout process is better."
      ],
      "metadata": {
        "id": "Hn5ry0hW-qG9"
      }
    }
  ]
}