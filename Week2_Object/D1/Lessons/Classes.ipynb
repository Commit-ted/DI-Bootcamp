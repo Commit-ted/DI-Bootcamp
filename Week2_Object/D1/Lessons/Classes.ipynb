{
  "nbformat": 4,
  "nbformat_minor": 0,
  "metadata": {
    "colab": {
      "provenance": []
    },
    "kernelspec": {
      "name": "python3",
      "display_name": "Python 3"
    },
    "language_info": {
      "name": "python"
    }
  },
  "cells": [
    {
      "cell_type": "code",
      "execution_count": null,
      "metadata": {
        "colab": {
          "base_uri": "https://localhost:8080/"
        },
        "id": "61a3Cu3kSBwc",
        "outputId": "97ccc78f-2baf-4d05-ffdc-7e7880d20265"
      },
      "outputs": [
        {
          "output_type": "stream",
          "name": "stdout",
          "text": [
            "Sally\n",
            "Spot\n"
          ]
        }
      ],
      "source": [
        "class Dog():\n",
        "    def __init__(self,name_1,age):\n",
        "      #self.name is the attribute of name within the dog class\n",
        "      #name is the parameter that i got in the init function\n",
        "        self.name = name_1\n",
        "        self.age = age\n",
        "    def whats_your_name(self):\n",
        "        print(self.name)\n",
        "\n",
        "sally = Dog(\"Sally\",1)\n",
        "sally.whats_your_name()\n",
        "\n",
        "spot = Dog(\"Spot\",2)\n",
        "spot.whats_your_name()"
      ]
    },
    {
      "cell_type": "code",
      "source": [
        "class Person():\n",
        "  def __init__(self, name, age):\n",
        "    self.name = name\n",
        "    self.age = age\n",
        "  #dunder = double underscore\n",
        "  def __repr__(self):\n",
        "    return f\"this person's name is {self.name} and his age is {self.age}\"\n",
        "  # def __add__(self, other): # self+other\n",
        "  #   return self.age + other.age\n",
        "\n",
        "\n",
        "john = Person(\"John\", 36)\n",
        "peter = Person(\"Peter\", 30)\n",
        "print(john + peter)\n",
        "\n",
        "\n"
      ],
      "metadata": {
        "colab": {
          "base_uri": "https://localhost:8080/",
          "height": 211
        },
        "id": "nISHlc6bVKew",
        "outputId": "7b8033d1-43c6-4adf-ddea-2beaa3c20890"
      },
      "execution_count": null,
      "outputs": [
        {
          "output_type": "error",
          "ename": "TypeError",
          "evalue": "unsupported operand type(s) for +: 'Person' and 'Person'",
          "traceback": [
            "\u001b[0;31m---------------------------------------------------------------------------\u001b[0m",
            "\u001b[0;31mTypeError\u001b[0m                                 Traceback (most recent call last)",
            "\u001b[0;32m<ipython-input-16-7731c750e25c>\u001b[0m in \u001b[0;36m<cell line: 14>\u001b[0;34m()\u001b[0m\n\u001b[1;32m     12\u001b[0m \u001b[0mjohn\u001b[0m \u001b[0;34m=\u001b[0m \u001b[0mPerson\u001b[0m\u001b[0;34m(\u001b[0m\u001b[0;34m\"John\"\u001b[0m\u001b[0;34m,\u001b[0m \u001b[0;36m36\u001b[0m\u001b[0;34m)\u001b[0m\u001b[0;34m\u001b[0m\u001b[0;34m\u001b[0m\u001b[0m\n\u001b[1;32m     13\u001b[0m \u001b[0mpeter\u001b[0m \u001b[0;34m=\u001b[0m \u001b[0mPerson\u001b[0m\u001b[0;34m(\u001b[0m\u001b[0;34m\"Peter\"\u001b[0m\u001b[0;34m,\u001b[0m \u001b[0;36m30\u001b[0m\u001b[0;34m)\u001b[0m\u001b[0;34m\u001b[0m\u001b[0;34m\u001b[0m\u001b[0m\n\u001b[0;32m---> 14\u001b[0;31m \u001b[0mprint\u001b[0m\u001b[0;34m(\u001b[0m\u001b[0mjohn\u001b[0m \u001b[0;34m+\u001b[0m \u001b[0mpeter\u001b[0m\u001b[0;34m)\u001b[0m\u001b[0;34m\u001b[0m\u001b[0;34m\u001b[0m\u001b[0m\n\u001b[0m\u001b[1;32m     15\u001b[0m \u001b[0;34m\u001b[0m\u001b[0m\n\u001b[1;32m     16\u001b[0m \u001b[0;34m\u001b[0m\u001b[0m\n",
            "\u001b[0;31mTypeError\u001b[0m: unsupported operand type(s) for +: 'Person' and 'Person'"
          ]
        }
      ]
    },
    {
      "cell_type": "code",
      "source": [
        "class Point():\n",
        "    def __init__(self, x, y):\n",
        "        self.x = x\n",
        "        self.y = y\n",
        "\n",
        "## create an instance of the class\n",
        "p = Point(3,4)\n",
        "\n",
        "## access the attributes\n",
        "print(\"p.x is:\", p.x)\n",
        "print(\"p.y is:\", p.y)"
      ],
      "metadata": {
        "colab": {
          "base_uri": "https://localhost:8080/"
        },
        "id": "sB-KwlRJZGm5",
        "outputId": "759f3a49-2303-498f-dcf5-13f40842103f"
      },
      "execution_count": null,
      "outputs": [
        {
          "output_type": "stream",
          "name": "stdout",
          "text": [
            "p.x is: 3\n",
            "p.y is: 4\n"
          ]
        }
      ]
    },
    {
      "cell_type": "code",
      "source": [
        "class Dog():\n",
        "    # Initializer / Instance Attributes\n",
        "    def __init__(self, name_of_the_dog):\n",
        "        print(\"A new dog has been initialized !\")\n",
        "        print(\"His name is\", name_of_the_dog)\n",
        "        self.name = name_of_the_dog\n",
        "\n",
        "    def bark(self):\n",
        "        print(\"{} barks ! WAF\".format(self.name))\n",
        "\n",
        "    def walk(self, number_of_meters):\n",
        "        print(\"{} walked {} meters\".format(self.name, number_of_meters))\n",
        "\n",
        "shelter_dog = Dog(\"Rex\")\n",
        "shelter_dog.walk(10)"
      ],
      "metadata": {
        "colab": {
          "base_uri": "https://localhost:8080/"
        },
        "id": "CMoLVuYicsQ1",
        "outputId": "c392403e-79d3-4a03-84ea-92db7dcb3ef5"
      },
      "execution_count": null,
      "outputs": [
        {
          "output_type": "stream",
          "name": "stdout",
          "text": [
            "A new dog has been initialized !\n",
            "His name is Rex\n",
            "Rex walked 10 meters\n"
          ]
        }
      ]
    },
    {
      "cell_type": "code",
      "source": [
        "class Dog():\n",
        "    # Initializer / Instance Attributes\n",
        "    def __init__(self, name_of_the_dog):\n",
        "        print(\"A new dog has been initialized !\")\n",
        "        print(\"His name is\", name_of_the_dog)\n",
        "        self.name = name_of_the_dog\n",
        "\n",
        "    def bark(self):\n",
        "        print(\"{} barks ! WAF\".format(self.name))\n",
        "\n",
        "    def walk(self, number_of_meters):\n",
        "        print(\"{} walked {} meters\".format(self.name, number_of_meters))\n",
        "\n",
        "    def rename(self, new_name):\n",
        "        self.name = new_name\n",
        "\n",
        "shelter_dog = Dog(\"Rex\")\n",
        "shelter_dog.name = \"Paul\"\n",
        "\n",
        "print(shelter_dog.name)\n",
        "\n",
        "shelter_dog.walk(10)"
      ],
      "metadata": {
        "colab": {
          "base_uri": "https://localhost:8080/"
        },
        "id": "OuhSJfQ4dKvZ",
        "outputId": "e1c07ffa-5ba9-4e28-87f1-d59b3cd420a0"
      },
      "execution_count": null,
      "outputs": [
        {
          "output_type": "stream",
          "name": "stdout",
          "text": [
            "A new dog has been initialized !\n",
            "His name is Rex\n",
            "Paul\n",
            "Paul walked 10 meters\n"
          ]
        }
      ]
    },
    {
      "cell_type": "code",
      "source": [
        "class Computer():\n",
        "\n",
        "    def description(self, name):\n",
        "        \"\"\"\n",
        "        This is a totally useless function\n",
        "        \"\"\"\n",
        "        print(\"I am a computer, my name is\", name)\n",
        "        #Analyse the line below\n",
        "        print(self)\n",
        "    def __repr__(self):\n",
        "        return \"This is a computer: {}\".format(self.brand)\n",
        "\n",
        "mac_computer = Computer()\n",
        "mac_computer.brand = \"Apple\"\n",
        "print(mac_computer.brand)\n",
        "\n",
        "windows = Computer()\n",
        "windows.brand = \"Microsoft\"\n",
        "print(windows.brand)\n",
        "\n",
        "dell_computer = Computer()\n",
        "dell_computer.brand = \"Windows\"\n",
        "Computer.description(dell_computer, \"Mark\")\n",
        "\n",
        "# IS THE SAME AS:\n",
        "dell_computer.description(\"Mark\")"
      ],
      "metadata": {
        "colab": {
          "base_uri": "https://localhost:8080/"
        },
        "id": "aaQWU-xAfQef",
        "outputId": "a6912ccb-7276-4045-fac7-af4fcea6bdf0"
      },
      "execution_count": null,
      "outputs": [
        {
          "output_type": "stream",
          "name": "stdout",
          "text": [
            "Apple\n",
            "Microsoft\n",
            "I am a computer, my name is Mark\n",
            "This is a computer: Windows\n",
            "I am a computer, my name is Mark\n",
            "This is a computer: Windows\n"
          ]
        }
      ]
    },
    {
      "cell_type": "code",
      "source": [
        "class Dog():\n",
        "\n",
        "    # Initializer / Instance Attributes\n",
        "    def __init__(self):\n",
        "        print(\"A new dog has been initialized !\")\n",
        "\n",
        "shelter_dog = Dog()\n",
        "\n",
        "sally = Dog()"
      ],
      "metadata": {
        "colab": {
          "base_uri": "https://localhost:8080/"
        },
        "id": "s0CE9kamUpn5",
        "outputId": "3e2913df-e4e1-4448-a486-d704dd323d2a"
      },
      "execution_count": null,
      "outputs": [
        {
          "output_type": "stream",
          "name": "stdout",
          "text": [
            "A new dog has been initialized !\n",
            "A new dog has been initialized !\n"
          ]
        }
      ]
    },
    {
      "cell_type": "code",
      "source": [
        "class BankAccount:\n",
        "    def __init__(self, owner, balance=0):\n",
        "        self.owner = owner        # Attribute: Owner of the account\n",
        "        self.balance = balance    # Attribute: Current balance\n",
        "\n",
        "    def deposit(self, amount):\n",
        "        if amount > 0:\n",
        "            self.balance += amount\n",
        "            print(f\"{amount} deposited. New balance: {self.balance}\")\n",
        "        else:\n",
        "            print(\"Deposit amount must be positive.\")\n",
        "\n",
        "    def withdraw(self, amount):\n",
        "        if amount > self.balance:\n",
        "            print(\"Insufficient funds!\")\n",
        "        else:\n",
        "            self.balance = self.balance - amount\n",
        "            print(f\"{amount} withdrawn. New balance: {self.balance}\")\n",
        "\n",
        "    def check_balance(self):\n",
        "        print(f\"Current balance: {self.balance}\")\n",
        "    def __repr__(self):\n",
        "        return f\"BankAccount('{self.owner}', {self.balance})\"\n",
        "\n",
        "# Usage\n",
        "account = BankAccount(\"Alice\")\n",
        "account.deposit(100)\n",
        "account.withdraw(30)\n",
        "account.check_balance()\n",
        "print(account)\n"
      ],
      "metadata": {
        "colab": {
          "base_uri": "https://localhost:8080/"
        },
        "id": "kHlH8rjrkPGk",
        "outputId": "f93cc159-bfcc-45ce-fda9-f617dedb147d"
      },
      "execution_count": null,
      "outputs": [
        {
          "output_type": "stream",
          "name": "stdout",
          "text": [
            "100 deposited. New balance: 100\n",
            "30 withdrawn. New balance: 70\n",
            "Current balance: 70\n",
            "BankAccount('Alice', 70)\n"
          ]
        }
      ]
    },
    {
      "cell_type": "code",
      "source": [
        "class BankAccount:\n",
        "\n",
        "    def __init__(self, account_number, balance=0):\n",
        "        self.account_number = account_number\n",
        "        self.balance = balance\n",
        "        self.transactions = []\n",
        "\n",
        "    def view_balance(self):\n",
        "        self.transactions.append(\"View Balance\")\n",
        "        print(f\"Balance for account {self.account_number}: {self.balance}\")\n",
        "\n",
        "    def deposit(self, amount):\n",
        "        if amount <= 0:\n",
        "            print(\"Invalid amount\")\n",
        "        elif amount < 100:\n",
        "            print(\"Minimum deposit is 100\")\n",
        "        else:\n",
        "            self.balance += amount\n",
        "            self.transactions.append(f\"Deposit: {amount}\")\n",
        "            print(\"Deposit Succcessful\")\n",
        "\n",
        "    def withdraw(self, amount):\n",
        "        if amount > self.balance:\n",
        "            print(\"Insufficient Funds\")\n",
        "        else:\n",
        "            self.balance -= amount\n",
        "            self.transactions.append(f\"Withdraw: {amount}\")\n",
        "            print(\"Withdraw Approved\")\n",
        "            return amount\n",
        "\n",
        "    def view_transactions(self):\n",
        "        print(\"Transactions:\")\n",
        "        print(\"-------------\")\n",
        "        for transaction in self.transactions:\n",
        "            print(transaction)\n",
        "\n",
        "\n",
        "sally = BankAccount(\"123456789\")\n",
        "sally.deposit(100)\n",
        "sally.deposit(200)\n",
        "sally.withdraw(50)\n",
        "sally.view_balance()\n",
        "sally.view_transactions()"
      ],
      "metadata": {
        "colab": {
          "base_uri": "https://localhost:8080/"
        },
        "id": "27oR8wstlglA",
        "outputId": "80d45583-42a6-49d0-f1c8-f7a43074345c"
      },
      "execution_count": null,
      "outputs": [
        {
          "output_type": "stream",
          "name": "stdout",
          "text": [
            "Deposit Succcessful\n",
            "Deposit Succcessful\n",
            "Withdraw Approved\n",
            "Balance for account 123456789: 250\n",
            "Transactions:\n",
            "-------------\n",
            "Deposit: 100\n",
            "Deposit: 200\n",
            "Withdraw: 50\n",
            "View Balance\n"
          ]
        }
      ]
    },
    {
      "cell_type": "code",
      "source": [
        "#Inventory management System\n",
        "\n",
        "class Item:\n",
        "    def __init__(self, name, price, quantity):\n",
        "        self.name = name\n",
        "        self.price = price\n",
        "        self.quantity = quantity\n",
        "\n",
        "    def update_quantity(self, amount):\n",
        "        self.quantity +=amount\n",
        "\n",
        "    def calculate_total_value(self):\n",
        "        return self.price * self.quantity\n",
        "\n",
        "    def __repr__(self):\n",
        "        return f\"Item('{self.name}', {self.price}, {self.quantity})\"\n",
        "\n",
        "class Inventory:#bananas, peaches, pineapple\n",
        "    def __init__(self):\n",
        "        self.items = []\n",
        "    def add_item(self, item):\n",
        "        self.items.append(item)\n",
        "        print(f\"Added {item.name} to inventory\")\n",
        "\n",
        "    def remove_item(self,item_name):\n",
        "        self.items = [item for item in self.items if item.name!=item_name]\n",
        "        print(f\"Removed {item_name} from inventory\")\n",
        "\n",
        "    def get_inventory_value(self):\n",
        "        values = [item.calculate_total_value() for item in self.items]\n",
        "        print(f\"Inventory Value: {sum(values)}\")\n",
        "        return sum(values)\n",
        "    def __repr__(self):\n",
        "        return \"\\n\".join(str(item) for item in self.items)#str(item) is another way to call the repr function within the class\n",
        "\n",
        "item1 = Item(\"Bananas\", 1, 10)\n",
        "item2 = Item(\"Peaches\", 2, 5)\n",
        "\n",
        "inventory = Inventory()\n",
        "inventory.add_item(item1)\n",
        "inventory.add_item(item2)\n",
        "inventory.get_inventory_value()\n",
        "print(inventory)\n",
        "inventory.remove_item(\"Bananas\")\n",
        "inventory.get_inventory_value()\n",
        "print(inventory)"
      ],
      "metadata": {
        "colab": {
          "base_uri": "https://localhost:8080/"
        },
        "id": "-bbA0zhYmCrU",
        "outputId": "66d8595b-9c29-4d5e-8a3a-2c03cbce5498"
      },
      "execution_count": null,
      "outputs": [
        {
          "output_type": "stream",
          "name": "stdout",
          "text": [
            "Added Bananas to inventory\n",
            "Added Peaches to inventory\n",
            "Inventory Value: 20\n",
            "Item('Bananas', 1, 10)\n",
            "Item('Peaches', 2, 5)\n",
            "Removed Bananas from inventory\n",
            "Inventory Value: 10\n",
            "Item('Peaches', 2, 5)\n"
          ]
        }
      ]
    },
    {
      "cell_type": "markdown",
      "source": [
        "#Hello"
      ],
      "metadata": {
        "id": "CNFykY0OzI9p"
      }
    },
    {
      "cell_type": "code",
      "source": [
        "\".\".join([\"a\",\"b\",\"c\"])"
      ],
      "metadata": {
        "colab": {
          "base_uri": "https://localhost:8080/",
          "height": 36
        },
        "id": "1HI6WQBmp4lj",
        "outputId": "9067894d-ab2b-4e07-94ff-f92de0a1030a"
      },
      "execution_count": null,
      "outputs": [
        {
          "output_type": "execute_result",
          "data": {
            "text/plain": [
              "'a.b.c'"
            ],
            "application/vnd.google.colaboratory.intrinsic+json": {
              "type": "string"
            }
          },
          "metadata": {},
          "execution_count": 31
        }
      ]
    },
    {
      "cell_type": "code",
      "source": [
        "class Student:\n",
        "    def __init__(self, name):\n",
        "        # Initialize the name and an empty dictionary for grades\n",
        "        self.name = name\n",
        "        self.grades = {}\n",
        "\n",
        "    def add_grade(self, subject, grade):\n",
        "        # Add or update the grade for the given subject\n",
        "        self.grades[subject] = grade\n",
        "\n",
        "    def calculate_average(self):\n",
        "        # Calculate and return the average grade\n",
        "        if not self.grades:\n",
        "            return 0\n",
        "        return sum(self.grades.values()) / len(self.grades)\n",
        "\n",
        "    def __str__(self):\n",
        "        # Return a string representation of the student with their grades\n",
        "        grades_str = ', '.join(f'{subject}: {grade}' for subject, grade in self.grades.items())\n",
        "        return f'{self.name} - Grades: {grades_str}'\n",
        "\n",
        "class Gradebook:\n",
        "    def __init__(self):\n",
        "        # Initialize an empty list to hold students\n",
        "        self.students = []\n",
        "\n",
        "    def add_student(self, student):\n",
        "        # Add the student to the gradebook\n",
        "        self.students.append(student)\n",
        "\n",
        "    def find_student(self, name):\n",
        "        # Find and return the student with the given name\n",
        "        for student in self.students:\n",
        "            if student.name == name:\n",
        "                return student\n",
        "        return f'Student {name} not found in the gradebook.'\n",
        "\n",
        "    def display_all_students(self):\n",
        "        # Display the information of all students\n",
        "        for student in self.students:\n",
        "            print(student)\n",
        "\n",
        "# Usage Example\n",
        "student1 = Student(\"Alice\")\n",
        "student2 = Student(\"Bob\")\n",
        "\n",
        "gradebook = Gradebook()\n",
        "gradebook.add_student(student1)\n",
        "gradebook.add_student(student2)\n",
        "\n",
        "student1.add_grade(\"Math\", 90)\n",
        "student1.add_grade(\"English\", 85)\n",
        "student2.add_grade(\"Math\", 78)\n",
        "student2.add_grade(\"Science\", 88)\n",
        "\n",
        "print(f\"{student1.name}'s average grade: {student1.calculate_average()}\")\n",
        "print(f\"{student2.name}'s average grade: {student2.calculate_average()}\")\n",
        "\n",
        "gradebook.display_all_students()\n"
      ],
      "metadata": {
        "colab": {
          "base_uri": "https://localhost:8080/"
        },
        "id": "FpVy0tGmwn9l",
        "outputId": "df6223a7-def3-4d9e-aa18-e86234e36634"
      },
      "execution_count": null,
      "outputs": [
        {
          "output_type": "stream",
          "name": "stdout",
          "text": [
            "Alice's average grade: 87.5\n",
            "Bob's average grade: 83.0\n",
            "Alice - Grades: Math: 90, English: 85\n",
            "Bob - Grades: Math: 78, Science: 88\n"
          ]
        }
      ]
    },
    {
      "cell_type": "code",
      "source": [
        "def is_empty(lst):\n",
        "  return not lst\n",
        "\n",
        "my_list = []\n",
        "if is_empty(my_list):\n",
        "  print(\"The list is empty\")\n",
        "else:\n",
        "  print(\"The list is not empty\")"
      ],
      "metadata": {
        "colab": {
          "base_uri": "https://localhost:8080/"
        },
        "id": "aR6e3UUf0ITn",
        "outputId": "38614475-af62-44f9-8f45-71594c907794"
      },
      "execution_count": null,
      "outputs": [
        {
          "output_type": "stream",
          "name": "stdout",
          "text": [
            "The list is empty\n"
          ]
        }
      ]
    }
  ]
}