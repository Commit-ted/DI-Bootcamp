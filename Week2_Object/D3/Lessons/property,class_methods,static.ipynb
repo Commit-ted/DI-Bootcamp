{
  "nbformat": 4,
  "nbformat_minor": 0,
  "metadata": {
    "colab": {
      "provenance": []
    },
    "kernelspec": {
      "name": "python3",
      "display_name": "Python 3"
    },
    "language_info": {
      "name": "python"
    }
  },
  "cells": [
    {
      "cell_type": "code",
      "execution_count": null,
      "metadata": {
        "colab": {
          "base_uri": "https://localhost:8080/"
        },
        "id": "eiefrUcyhVo6",
        "outputId": "3957b024-fa1b-4a50-e55b-7768d74906d9"
      },
      "outputs": [
        {
          "output_type": "stream",
          "name": "stdout",
          "text": [
            "Bob\n",
            "2\n",
            "2\n"
          ]
        }
      ],
      "source": [
        "class Person:\n",
        "  num_of_people=0\n",
        "  def __init__(self,name):\n",
        "    self.name = name\n",
        "    Person.num_of_people+=1\n",
        "\n",
        "bob = Person(\"Bob\")\n",
        "alice = Person(\"Alice\")\n",
        "print(bob.name)\n",
        "print(bob.num_of_people)\n",
        "print(Person.num_of_people)"
      ]
    },
    {
      "cell_type": "code",
      "source": [
        "!pip install requests"
      ],
      "metadata": {
        "colab": {
          "base_uri": "https://localhost:8080/"
        },
        "id": "srfFhvK3iPgP",
        "outputId": "4086a67c-3b18-4fcd-f211-61615fbeac72"
      },
      "execution_count": null,
      "outputs": [
        {
          "output_type": "stream",
          "name": "stdout",
          "text": [
            "Requirement already satisfied: requests in /usr/local/lib/python3.10/dist-packages (2.32.3)\n",
            "Requirement already satisfied: charset-normalizer<4,>=2 in /usr/local/lib/python3.10/dist-packages (from requests) (3.3.2)\n",
            "Requirement already satisfied: idna<4,>=2.5 in /usr/local/lib/python3.10/dist-packages (from requests) (3.7)\n",
            "Requirement already satisfied: urllib3<3,>=1.21.1 in /usr/local/lib/python3.10/dist-packages (from requests) (2.0.7)\n",
            "Requirement already satisfied: certifi>=2017.4.17 in /usr/local/lib/python3.10/dist-packages (from requests) (2024.7.4)\n"
          ]
        }
      ]
    },
    {
      "cell_type": "code",
      "source": [
        "!pip install selenium"
      ],
      "metadata": {
        "colab": {
          "base_uri": "https://localhost:8080/"
        },
        "id": "NeCju0eMkIsM",
        "outputId": "90a67a0c-9a62-497a-d6ee-3a1b59c42f4c"
      },
      "execution_count": null,
      "outputs": [
        {
          "output_type": "stream",
          "name": "stdout",
          "text": [
            "Collecting selenium\n",
            "  Downloading selenium-4.23.1-py3-none-any.whl.metadata (7.1 kB)\n",
            "Requirement already satisfied: urllib3<3,>=1.26 in /usr/local/lib/python3.10/dist-packages (from urllib3[socks]<3,>=1.26->selenium) (2.0.7)\n",
            "Collecting trio~=0.17 (from selenium)\n",
            "  Downloading trio-0.26.2-py3-none-any.whl.metadata (8.6 kB)\n",
            "Collecting trio-websocket~=0.9 (from selenium)\n",
            "  Downloading trio_websocket-0.11.1-py3-none-any.whl.metadata (4.7 kB)\n",
            "Requirement already satisfied: certifi>=2021.10.8 in /usr/local/lib/python3.10/dist-packages (from selenium) (2024.7.4)\n",
            "Requirement already satisfied: typing_extensions~=4.9 in /usr/local/lib/python3.10/dist-packages (from selenium) (4.12.2)\n",
            "Requirement already satisfied: websocket-client~=1.8 in /usr/local/lib/python3.10/dist-packages (from selenium) (1.8.0)\n",
            "Requirement already satisfied: attrs>=23.2.0 in /usr/local/lib/python3.10/dist-packages (from trio~=0.17->selenium) (24.2.0)\n",
            "Requirement already satisfied: sortedcontainers in /usr/local/lib/python3.10/dist-packages (from trio~=0.17->selenium) (2.4.0)\n",
            "Requirement already satisfied: idna in /usr/local/lib/python3.10/dist-packages (from trio~=0.17->selenium) (3.7)\n",
            "Collecting outcome (from trio~=0.17->selenium)\n",
            "  Downloading outcome-1.3.0.post0-py2.py3-none-any.whl.metadata (2.6 kB)\n",
            "Requirement already satisfied: sniffio>=1.3.0 in /usr/local/lib/python3.10/dist-packages (from trio~=0.17->selenium) (1.3.1)\n",
            "Requirement already satisfied: exceptiongroup in /usr/local/lib/python3.10/dist-packages (from trio~=0.17->selenium) (1.2.2)\n",
            "Collecting wsproto>=0.14 (from trio-websocket~=0.9->selenium)\n",
            "  Downloading wsproto-1.2.0-py3-none-any.whl.metadata (5.6 kB)\n",
            "Requirement already satisfied: pysocks!=1.5.7,<2.0,>=1.5.6 in /usr/local/lib/python3.10/dist-packages (from urllib3[socks]<3,>=1.26->selenium) (1.7.1)\n",
            "Collecting h11<1,>=0.9.0 (from wsproto>=0.14->trio-websocket~=0.9->selenium)\n",
            "  Downloading h11-0.14.0-py3-none-any.whl.metadata (8.2 kB)\n",
            "Downloading selenium-4.23.1-py3-none-any.whl (9.4 MB)\n",
            "\u001b[2K   \u001b[90m━━━━━━━━━━━━━━━━━━━━━━━━━━━━━━━━━━━━━━━━\u001b[0m \u001b[32m9.4/9.4 MB\u001b[0m \u001b[31m40.8 MB/s\u001b[0m eta \u001b[36m0:00:00\u001b[0m\n",
            "\u001b[?25hDownloading trio-0.26.2-py3-none-any.whl (475 kB)\n",
            "\u001b[2K   \u001b[90m━━━━━━━━━━━━━━━━━━━━━━━━━━━━━━━━━━━━━━━━\u001b[0m \u001b[32m476.0/476.0 kB\u001b[0m \u001b[31m23.9 MB/s\u001b[0m eta \u001b[36m0:00:00\u001b[0m\n",
            "\u001b[?25hDownloading trio_websocket-0.11.1-py3-none-any.whl (17 kB)\n",
            "Downloading wsproto-1.2.0-py3-none-any.whl (24 kB)\n",
            "Downloading outcome-1.3.0.post0-py2.py3-none-any.whl (10 kB)\n",
            "Downloading h11-0.14.0-py3-none-any.whl (58 kB)\n",
            "\u001b[2K   \u001b[90m━━━━━━━━━━━━━━━━━━━━━━━━━━━━━━━━━━━━━━━━\u001b[0m \u001b[32m58.3/58.3 kB\u001b[0m \u001b[31m3.7 MB/s\u001b[0m eta \u001b[36m0:00:00\u001b[0m\n",
            "\u001b[?25hInstalling collected packages: outcome, h11, wsproto, trio, trio-websocket, selenium\n",
            "Successfully installed h11-0.14.0 outcome-1.3.0.post0 selenium-4.23.1 trio-0.26.2 trio-websocket-0.11.1 wsproto-1.2.0\n"
          ]
        }
      ]
    },
    {
      "cell_type": "code",
      "source": [
        "import requests"
      ],
      "metadata": {
        "id": "jG9_Hxykikqa"
      },
      "execution_count": null,
      "outputs": []
    },
    {
      "cell_type": "code",
      "source": [
        "import pandas as pd"
      ],
      "metadata": {
        "id": "TJnexHh4iq85"
      },
      "execution_count": null,
      "outputs": []
    },
    {
      "cell_type": "code",
      "source": [
        "def say_hello():\n",
        "  print(\"Hello\")"
      ],
      "metadata": {
        "id": "RT9SxzU-oiJf"
      },
      "execution_count": null,
      "outputs": []
    },
    {
      "cell_type": "code",
      "source": [
        "import time\n",
        "def my_decorator(func):\n",
        "  def wrapper(a,b):\n",
        "    print(\"Something is happening before the function is called.\")\n",
        "    func(a,b)\n",
        "    print(\"Something is happening after the function is called.\")\n",
        "  return wrapper"
      ],
      "metadata": {
        "id": "wx43zay3oyJk"
      },
      "execution_count": null,
      "outputs": []
    },
    {
      "cell_type": "code",
      "source": [
        "@my_decorator\n",
        "def add(a,b):\n",
        "  print(a+b)\n",
        "\n",
        "add(2,3)"
      ],
      "metadata": {
        "colab": {
          "base_uri": "https://localhost:8080/"
        },
        "id": "5mDK-2N-pwES",
        "outputId": "c7ebbd6b-edc5-40fe-fe67-d85fda0e3e3b"
      },
      "execution_count": null,
      "outputs": [
        {
          "output_type": "stream",
          "name": "stdout",
          "text": [
            "Something is happening before the function is called.\n",
            "5\n",
            "Something is happening after the function is called.\n"
          ]
        }
      ]
    },
    {
      "cell_type": "code",
      "source": [
        "class MyClass:\n",
        "  __counter = 0\n",
        "  def __init__(self,name):\n",
        "    self.name = name\n",
        "    MyClass.__counter+=1\n",
        "\n",
        "  def say_hello(self):\n",
        "    return(f\"Hello {self.name}\")\n",
        "\n",
        "  @staticmethod\n",
        "  def add(a,b):\n",
        "    return a+b\n",
        "\n",
        "  @staticmethod\n",
        "  def subtract(a,b):\n",
        "    return a-b\n",
        "\n",
        "  @classmethod\n",
        "  def sub_and_add(cls,a,b, person):\n",
        "    return f\"person name: {cls.say_hello(person)} {cls.add(a,b)-cls.subtract(a,b)}\"\n",
        "\n",
        "bob = MyClass(\"Bob\")\n",
        "my_class_add = MyClass.sub_and_add(3,4,bob)\n",
        "print(my_class_add)\n",
        "\n"
      ],
      "metadata": {
        "colab": {
          "base_uri": "https://localhost:8080/"
        },
        "id": "XiH_hW7CwHYg",
        "outputId": "a20a08f1-615c-4773-9d18-6a31f3f51eee"
      },
      "execution_count": null,
      "outputs": [
        {
          "output_type": "stream",
          "name": "stdout",
          "text": [
            "person name: Hello Bob 8\n"
          ]
        }
      ]
    },
    {
      "cell_type": "code",
      "source": [
        "class Rectangle:\n",
        "  def __init__(self,length,width):\n",
        "    if length < 0 or width < 0:\n",
        "      raise ValueError(\"Length and width cannot be negative\")\n",
        "    else:\n",
        "      self.__length = length\n",
        "      self.__width = width\n",
        "\n",
        "  @property#defining area as an attribute as well as making a getter for area\n",
        "  def area(self):\n",
        "    return self.length*self.width\n",
        "\n",
        "  @property #getter for length\n",
        "  def length(self):\n",
        "    return self.__length\n",
        "\n",
        "  @length.setter#setter for length\n",
        "  def length(self,value):\n",
        "    if value < 0:\n",
        "      raise ValueError(\"Length cannot be negative\")\n",
        "    self.__length = value\n",
        "try:\n",
        "  rect = Rectangle(5,4)\n",
        "  rect.length = 7\n",
        "  print(rect.area)\n",
        "except ValueError as e:\n",
        "  print(e)\n"
      ],
      "metadata": {
        "colab": {
          "base_uri": "https://localhost:8080/"
        },
        "id": "wKYZjFOO1VHE",
        "outputId": "60bfde6e-c51a-4506-ff13-055e8217a634"
      },
      "execution_count": null,
      "outputs": [
        {
          "output_type": "stream",
          "name": "stdout",
          "text": [
            "Length and width cannot be negative\n"
          ]
        }
      ]
    },
    {
      "cell_type": "code",
      "source": [
        "class weatherStation:\n",
        "  def __init__(self,temp_celsius):\n",
        "    self.temp_cels = temp_celsius\n",
        "    self.temp_far = (self.temp_cels*9/5)+32\n",
        "\n",
        "  @property\n",
        "  def temp_far(self):\n",
        "    return (self.temp_cels*9/5)+32\n",
        "\n",
        "\n",
        "weather = weatherStation(30)\n",
        "print(weather.temp_far)"
      ],
      "metadata": {
        "colab": {
          "base_uri": "https://localhost:8080/"
        },
        "id": "lyh71bv95Ij5",
        "outputId": "72454a80-32a6-4f6f-995e-07cf77973c98"
      },
      "execution_count": null,
      "outputs": [
        {
          "output_type": "stream",
          "name": "stdout",
          "text": [
            "86.0\n"
          ]
        }
      ]
    },
    {
      "cell_type": "code",
      "source": [
        "class MyClass(object):\n",
        "    count = 0\n",
        "\n",
        "    def __init__(self, val):\n",
        "        self.val = val\n",
        "        MyClass.count += 1\n",
        "\n",
        "    def set_val(self, newval):\n",
        "        self.val = newval\n",
        "\n",
        "    def get_val(self):\n",
        "        return self.val\n",
        "\n",
        "    @classmethod\n",
        "    def get_count(cls):\n",
        "        return cls.count\n",
        "\n",
        "object_1 = MyClass(10)\n",
        "print(\"\\nValue of object : %s count %s\" % (object_1.get_val() ,  object_1.get_count()))\n",
        "print(MyClass.get_count())\n",
        "\n",
        "object_2 = MyClass(20)\n",
        "print(\"\\nValue of object : %s\" % object_2.get_val())\n",
        "print(MyClass.get_count())"
      ],
      "metadata": {
        "colab": {
          "base_uri": "https://localhost:8080/"
        },
        "id": "QhzRm-9U6pfn",
        "outputId": "cf1c701e-8425-4292-b6a4-ef94b8404401"
      },
      "execution_count": null,
      "outputs": [
        {
          "output_type": "stream",
          "name": "stdout",
          "text": [
            "\n",
            "Value of object : 10 count 1\n",
            "1\n",
            "\n",
            "Value of object : 20\n",
            "2\n"
          ]
        }
      ]
    },
    {
      "cell_type": "code",
      "source": [
        "class BankAccount:\n",
        "    # Class attributes to track total accounts, all accounts, and a default interest rate\n",
        "    total_accounts = 0\n",
        "    all_accounts = []\n",
        "    interest_rate = 0.03  # 3% interest rate for savings accounts\n",
        "\n",
        "    def __init__(self, account_type: str, initial_balance: float = 0.0):\n",
        "        self._balance = initial_balance\n",
        "        self.account_type = account_type\n",
        "        self.transaction_history = []\n",
        "        self.account_number = BankAccount.total_accounts + 1\n",
        "        BankAccount.total_accounts += 1\n",
        "        BankAccount.all_accounts.append(self)\n",
        "\n",
        "    @property\n",
        "    def balance(self):\n",
        "        \"\"\"Provides read-only access to the account balance.\"\"\"\n",
        "        return self._balance\n",
        "\n",
        "    @property\n",
        "    def account_type(self):\n",
        "        \"\"\"Getter for account_type. Ensures the account type is valid.\"\"\"\n",
        "        return self._account_type\n",
        "\n",
        "    @account_type.setter\n",
        "    def account_type(self, value):\n",
        "        \"\"\"Setter for account_type. Validates the account type before setting it.\"\"\"\n",
        "        if not BankAccount.validate_account_type(value):\n",
        "            raise ValueError(\"Invalid account type. Must be 'savings' or 'checking'.\")\n",
        "        self._account_type = value\n",
        "\n",
        "    @classmethod\n",
        "    def get_total_accounts(cls):\n",
        "        \"\"\"Returns the total number of accounts created.\"\"\"\n",
        "        return cls.total_accounts\n",
        "\n",
        "    @classmethod\n",
        "    def find_account_by_number(cls, account_number):\n",
        "        \"\"\"Finds and returns an account by its account number.\"\"\"\n",
        "        for account in cls.all_accounts:\n",
        "            if account.account_number == account_number:\n",
        "                return account\n",
        "        return None\n",
        "\n",
        "    @classmethod\n",
        "    def total_balances(cls):\n",
        "        \"\"\"Returns the sum of balances across all accounts.\"\"\"\n",
        "        return sum(account.balance for account in cls.all_accounts)\n",
        "\n",
        "    @staticmethod\n",
        "    def validate_account_type(account_type):\n",
        "        \"\"\"Validates the account type to ensure it's either 'savings' or 'checking'.\"\"\"\n",
        "        return account_type in [\"savings\", \"checking\"]\n",
        "\n",
        "    def deposit(self, amount):\n",
        "        \"\"\"Adds money to the account and logs the transaction.\"\"\"\n",
        "        if amount > 0:\n",
        "            self._balance += amount\n",
        "            self.transaction_history.append(f\"Deposited: ${amount}\")\n",
        "        else:\n",
        "            raise ValueError(\"Deposit amount must be positive.\")\n",
        "\n",
        "    def withdraw(self, amount):\n",
        "        \"\"\"Withdraws money from the account if the balance allows, and logs the transaction.\"\"\"\n",
        "        if amount > self._balance:\n",
        "            raise ValueError(\"Insufficient balance.\")\n",
        "        self._balance -= amount\n",
        "        self.transaction_history.append(f\"Withdrew: ${amount}\")\n",
        "\n",
        "    def apply_interest(self):\n",
        "        \"\"\"Applies interest to savings accounts and logs the interest application.\"\"\"\n",
        "        if self._account_type == \"savings\":\n",
        "            self._balance += self._balance * BankAccount.interest_rate\n",
        "            self.transaction_history.append(f\"Interest applied at rate: {BankAccount.interest_rate * 100}%\")\n",
        "\n",
        "# Example Usage\n",
        "if __name__ == \"__main__\":\n",
        "    # Create bank accounts\n",
        "    account1 = BankAccount(\"savings\", 1000)\n",
        "    account2 = BankAccount(\"checking\", 500)\n",
        "    account3 = BankAccount(\"savings\", 2000)\n",
        "\n",
        "    # Deposit and withdraw money\n",
        "    account1.deposit(300)\n",
        "    account2.withdraw(200)\n",
        "\n",
        "    # Apply interest to the savings accounts\n",
        "    account1.apply_interest()\n",
        "    account3.apply_interest()\n",
        "\n",
        "    # Find account by account number\n",
        "    found_account = BankAccount.find_account_by_number(2)\n",
        "    if found_account:\n",
        "        print(f\"Found account #{found_account.account_number} with balance: ${found_account.balance}\")\n",
        "\n",
        "    # Display total balances across all accounts\n",
        "    print(f\"Total balances across all accounts: ${BankAccount.total_balances()}\")\n",
        "\n",
        "    # Display total accounts created\n",
        "    print(f\"Total accounts created: {BankAccount.get_total_accounts()}\")\n"
      ],
      "metadata": {
        "colab": {
          "base_uri": "https://localhost:8080/"
        },
        "id": "MAn9j30aDiIH",
        "outputId": "d4e07e20-0671-406f-8b15-496c5f20e724"
      },
      "execution_count": null,
      "outputs": [
        {
          "output_type": "stream",
          "name": "stdout",
          "text": [
            "Found account #2 with balance: $300\n",
            "Total balances across all accounts: $3699.0\n",
            "Total accounts created: 3\n"
          ]
        }
      ]
    }
  ]
}