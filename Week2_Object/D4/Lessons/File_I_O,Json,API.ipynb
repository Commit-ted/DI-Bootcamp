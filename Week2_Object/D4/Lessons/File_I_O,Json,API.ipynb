{
  "nbformat": 4,
  "nbformat_minor": 0,
  "metadata": {
    "colab": {
      "provenance": []
    },
    "kernelspec": {
      "name": "python3",
      "display_name": "Python 3"
    },
    "language_info": {
      "name": "python"
    }
  },
  "cells": [
    {
      "cell_type": "code",
      "execution_count": null,
      "metadata": {
        "colab": {
          "base_uri": "https://localhost:8080/"
        },
        "id": "7pACm1jOwwLV",
        "outputId": "624ae2e5-b460-4dd4-a0a3-de3fd50cc341"
      },
      "outputs": [
        {
          "output_type": "stream",
          "name": "stdout",
          "text": [
            "\n"
          ]
        }
      ],
      "source": [
        "f = open('hello.txt', 'w+')\n",
        "secret_data = f.read()\n",
        "# secret_data is a string\n",
        "print(secret_data)\n"
      ]
    },
    {
      "cell_type": "code",
      "source": [
        "f.write('This is a new line')\n",
        "f.close()\n",
        "f = open('hello.txt', 'r')\n",
        "secret_data = f.read()\n",
        "# secret_data is a string\n",
        "print(secret_data)\n",
        "f.close()"
      ],
      "metadata": {
        "colab": {
          "base_uri": "https://localhost:8080/"
        },
        "id": "geKZZMOI6mwR",
        "outputId": "bff84451-dc58-41e1-dcdb-fcbc9488ff56"
      },
      "execution_count": null,
      "outputs": [
        {
          "output_type": "stream",
          "name": "stdout",
          "text": [
            "This is a new line\n"
          ]
        }
      ]
    },
    {
      "cell_type": "code",
      "source": [
        "f=open('hello.txt', 'a')\n",
        "f.write('This is a new line')\n",
        "f.close()\n",
        "f = open('hello.txt', 'r')\n",
        "secret_data = f.read()\n",
        "# secret_data is a string\n",
        "print(secret_data)\n",
        "f.close()"
      ],
      "metadata": {
        "colab": {
          "base_uri": "https://localhost:8080/"
        },
        "id": "XFpYycg879G6",
        "outputId": "e94b3f9b-833f-4090-bf45-173681185ce9"
      },
      "execution_count": null,
      "outputs": [
        {
          "output_type": "stream",
          "name": "stdout",
          "text": [
            "This is a new lineThis is a new line\n"
          ]
        }
      ]
    },
    {
      "cell_type": "code",
      "source": [
        "try:\n",
        "  f=open('hel.txt', 'r')\n",
        "  secret_data = f.read()\n",
        "  # secret_data is a string\n",
        "  print(secret_data)\n",
        "except FileNotFoundError as e:\n",
        "  print(\"The filer was not found\")\n",
        "except Exception as e:\n",
        "  print(f\"An error occured {e}\")\n",
        "finally:\n",
        "  try:\n",
        "    f.close()\n",
        "    print(\"file closed\")\n",
        "  except NameError as e:\n",
        "    print(\"File was never opened\")"
      ],
      "metadata": {
        "colab": {
          "base_uri": "https://localhost:8080/"
        },
        "id": "6W18cRk48gjw",
        "outputId": "92900605-ffd4-45a7-a083-89d9f3b63645"
      },
      "execution_count": null,
      "outputs": [
        {
          "output_type": "stream",
          "name": "stdout",
          "text": [
            "The filer was not found\n",
            "file closed\n"
          ]
        }
      ]
    },
    {
      "cell_type": "code",
      "source": [
        "f = open('output.txt', 'w')\n",
        "for i in range(10):\n",
        "    f.write(\"this is line: %i\\n\"%i)\n",
        "f.close()\n",
        "\n",
        "# Same as\n",
        "try:\n",
        "  with open('output.txt', 'w') as f:\n",
        "      for i in range(10):\n",
        "        f.write(\"this is line: %i\\n\"%i)\n",
        "except FileNotFoundError as e:\n",
        "  print(\"The filer was not found\")\n",
        "except Exception as e:\n",
        "  print(f\"An error occured {e}\")"
      ],
      "metadata": {
        "id": "1zPRnvs7AYyL"
      },
      "execution_count": null,
      "outputs": []
    },
    {
      "cell_type": "code",
      "source": [
        "for line in open('output.txt'):\n",
        "    print(line)"
      ],
      "metadata": {
        "colab": {
          "base_uri": "https://localhost:8080/"
        },
        "id": "68hf3iTgBICr",
        "outputId": "e02663d2-7cba-4cef-b77b-23101642eecc"
      },
      "execution_count": null,
      "outputs": [
        {
          "output_type": "stream",
          "name": "stdout",
          "text": [
            "this is line: 0\n",
            "\n",
            "this is line: 1\n",
            "\n",
            "this is line: 2\n",
            "\n",
            "this is line: 3\n",
            "\n",
            "this is line: 4\n",
            "\n",
            "this is line: 5\n",
            "\n",
            "this is line: 6\n",
            "\n",
            "this is line: 7\n",
            "\n",
            "this is line: 8\n",
            "\n",
            "this is line: 9\n",
            "\n"
          ]
        }
      ]
    },
    {
      "cell_type": "code",
      "source": [
        "f=open('output.txt')\n",
        "lines = f.readlines()\n",
        "f.close()\n",
        "\n",
        "f=open('output.txt', 'a+')\n",
        "for line in lines:\n",
        "    f=open('output.txt', 'a+')\n",
        "    new_line = line.lstrip()+\"new line\"\n",
        "    f.write(new_line)\n",
        "    f.close()\n",
        "for line in open('output.txt'):\n",
        "    print(line)\n",
        "f.close()"
      ],
      "metadata": {
        "colab": {
          "base_uri": "https://localhost:8080/"
        },
        "id": "Wi1-VniDBeSZ",
        "outputId": "3cb5b839-105f-4527-c4e4-5c2efc090f3a"
      },
      "execution_count": null,
      "outputs": [
        {
          "output_type": "stream",
          "name": "stdout",
          "text": [
            "new linenew linenew linenew linenew line\n"
          ]
        }
      ]
    },
    {
      "cell_type": "code",
      "source": [
        "fs=open('hello.txt', 'w+')\n",
        "position = fs.tell()\n",
        "print(position)\n",
        "fs.write(\"Hello worldddddd\")\n",
        "\n",
        "fs.seek(1)\n",
        "position = fs.tell()\n",
        "print(position)\n",
        "content = fs.read()\n",
        "position = fs.tell()\n",
        "print(position)\n",
        "fs.close()\n",
        "print(content)"
      ],
      "metadata": {
        "colab": {
          "base_uri": "https://localhost:8080/"
        },
        "id": "H_fvI1c-F_Te",
        "outputId": "99982be5-bcb8-438a-aafb-791469be3827"
      },
      "execution_count": null,
      "outputs": [
        {
          "output_type": "stream",
          "name": "stdout",
          "text": [
            "0\n",
            "1\n",
            "16\n",
            "ello worldddddd\n"
          ]
        }
      ]
    },
    {
      "cell_type": "code",
      "source": [
        "import json\n",
        "\n",
        "my_family = {\n",
        "    \"parents\":['Beth', 'Jerry'],\n",
        "    \"children\":['Summer', 'Morty']\n",
        "}\n",
        "\n",
        "json_file = \"my_file.json\"\n",
        "\n",
        "with open(json_file, 'w') as file_obj:\n",
        "    json.dump(my_family, file_obj)"
      ],
      "metadata": {
        "id": "8aDOgterKb7E"
      },
      "execution_count": null,
      "outputs": []
    },
    {
      "cell_type": "code",
      "source": [
        "family = {\n",
        "    \"firstName\": \"Jane\",\n",
        "    \"lastName\": \"Doe\",\n",
        "    \"hobbies\": [\"running\", \"sky diving\", \"singing\"],\n",
        "    \"age\": 35,\n",
        "    \"children\": [\n",
        "        {\n",
        "            \"firstName\": \"Alice\",\n",
        "            \"age\": 6\n",
        "        },\n",
        "        {\n",
        "            \"firstName\": \"Bob\",\n",
        "            \"age\": 8\n",
        "        }\n",
        "    ]\n",
        "}\n",
        "\n",
        "family['children'][1]['age']\n"
      ],
      "metadata": {
        "colab": {
          "base_uri": "https://localhost:8080/"
        },
        "id": "e3Sjo_OvLCfd",
        "outputId": "9b1dc4ab-befc-480c-c308-a237b42f347a"
      },
      "execution_count": null,
      "outputs": [
        {
          "output_type": "execute_result",
          "data": {
            "text/plain": [
              "8"
            ]
          },
          "metadata": {},
          "execution_count": 58
        }
      ]
    },
    {
      "cell_type": "code",
      "source": [
        "import json\n",
        "\n",
        "my_family = {\n",
        "    \"parents\" :['Beth', 'Jerry'],\n",
        "    \"children\" :['Summer', 'Morty']\n",
        "}\n",
        "\n",
        "print(type(my_family))\n",
        "json_my_family = json.dumps(my_family)\n",
        "print(type(json_my_family))"
      ],
      "metadata": {
        "colab": {
          "base_uri": "https://localhost:8080/"
        },
        "id": "pk7PCmCsL0iM",
        "outputId": "05d9da53-7300-4d79-de4c-f077b267bac0"
      },
      "execution_count": null,
      "outputs": [
        {
          "output_type": "stream",
          "name": "stdout",
          "text": [
            "<class 'dict'>\n",
            "<class 'str'>\n"
          ]
        }
      ]
    },
    {
      "cell_type": "code",
      "source": [
        "import json\n",
        "\n",
        "my_family = {\n",
        "    \"parents\" :['Beth', 'Jerry'],\n",
        "    \"children\" :['Summer', 'Morty']\n",
        "}\n",
        "\n",
        "json_file = \"index.json\"\n",
        "\n",
        "with open(json_file, 'w') as file_obj:\n",
        "    json = json.dump(my_family, file_obj, indent = 2, sort_keys=True)\n"
      ],
      "metadata": {
        "id": "Z2YeFxH5MWzb"
      },
      "execution_count": null,
      "outputs": []
    },
    {
      "cell_type": "code",
      "source": [
        "import json\n",
        "\n",
        "my_family = {\n",
        "    \"parents\" :['Beth', 'Jerry'],\n",
        "    \"children\" :['Summer', 'Morty']\n",
        "}\n",
        "\n",
        "\n",
        "json = json.dumps(my_family, indent = 2, sort_keys=True)\n",
        "json"
      ],
      "metadata": {
        "colab": {
          "base_uri": "https://localhost:8080/",
          "height": 35
        },
        "id": "ctGlW4-zMyry",
        "outputId": "dadeee61-0fbc-4c40-a1e5-2704eb22910f"
      },
      "execution_count": null,
      "outputs": [
        {
          "output_type": "execute_result",
          "data": {
            "text/plain": [
              "'{\\n  \"children\": [\\n    \"Summer\",\\n    \"Morty\"\\n  ],\\n  \"parents\": [\\n    \"Beth\",\\n    \"Jerry\"\\n  ]\\n}'"
            ],
            "application/vnd.google.colaboratory.intrinsic+json": {
              "type": "string"
            }
          },
          "metadata": {},
          "execution_count": 66
        }
      ]
    },
    {
      "cell_type": "code",
      "source": [
        "import json\n",
        "\n",
        "json_file = 'my_file.json'\n",
        "with open(json_file, 'r') as file_obj:\n",
        "    my_family = json.load(file_obj)\n",
        "\n",
        "print(my_family)"
      ],
      "metadata": {
        "colab": {
          "base_uri": "https://localhost:8080/"
        },
        "id": "0ITEc6xgNEBJ",
        "outputId": "5093eeee-22a0-470d-e579-142f4560710b"
      },
      "execution_count": null,
      "outputs": [
        {
          "output_type": "stream",
          "name": "stdout",
          "text": [
            "{'parents': ['Beth', 'Jerry'], 'children': ['Summer', 'Morty']}\n"
          ]
        }
      ]
    },
    {
      "cell_type": "code",
      "source": [
        "import requests\n",
        "\n",
        "# Step 3.1: Define the base URL and API key\n",
        "api_key = \"your_api_key_here\"  # Replace with your OpenWeatherMap API key\n",
        "base_url = \"http://api.openweathermap.org/data/2.5/weather\"\n",
        "\n",
        "# Step 3.2: Ask the user for the city name\n",
        "city_name = input(\"Enter city name: \")\n",
        "\n",
        "# Step 3.3: Construct the final URL to make the API request\n",
        "url = f\"{base_url}?q={city_name}&appid={api_key}&units=metric\"\n",
        "\n",
        "# Step 3.4: Make the request and get the response\n",
        "response = requests.get(url)\n",
        "\n",
        "# Step 3.5: Check if the request was successful (status code 200)\n",
        "if response.status_code == 200:\n",
        "    data = response.json()  # Parse the JSON data\n",
        "\n",
        "    # Step 3.6: Extract the relevant data from the JSON response\n",
        "    main = data['main']\n",
        "    weather = data['weather'][0]\n",
        "\n",
        "    # Step 3.7: Display the information\n",
        "    print(f\"City: {data['name']}\")\n",
        "    print(f\"Temperature: {main['temp']}°C\")\n",
        "    print(f\"Weather: {weather['description'].capitalize()}\")\n",
        "    print(f\"Humidity: {main['humidity']}%\")\n",
        "    print(f\"Pressure: {main['pressure']} hPa\")\n",
        "else:\n",
        "    # Step 3.8: Handle the error if the request was not successful\n",
        "    print(\"City not found. Please check the city name and try again.\")\n"
      ],
      "metadata": {
        "id": "cz9Dn1M8QIak"
      },
      "execution_count": null,
      "outputs": []
    }
  ]
}