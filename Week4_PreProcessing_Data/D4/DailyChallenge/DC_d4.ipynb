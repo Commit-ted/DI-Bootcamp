{
 "cells": [
  {
   "cell_type": "code",
   "execution_count": 1,
   "metadata": {},
   "outputs": [],
   "source": [
    "! pip install -q kaggle"
   ]
  },
  {
   "cell_type": "code",
   "execution_count": 3,
   "metadata": {},
   "outputs": [
    {
     "name": "stdout",
     "output_type": "stream",
     "text": [
      "mkdir: /Users/manuel/.kaggle: File exists\n"
     ]
    }
   ],
   "source": [
    "! mkdir ~/.kaggle\n",
    "\n",
    "! cp /Users/manuel/Desktop/DI-Bootcamp/Keys/kaggle.json ~/.kaggle/\n",
    "\n",
    "\n",
    "! chmod 600 ~/.kaggle/kaggle.json"
   ]
  },
  {
   "cell_type": "code",
   "execution_count": 5,
   "metadata": {},
   "outputs": [
    {
     "name": "stdout",
     "output_type": "stream",
     "text": [
      "Dataset URL: https://www.kaggle.com/datasets/harigoshika/retail-sales-performance-analysis-with-power-bi\n",
      "License(s): CC0-1.0\n",
      "Downloading retail-sales-performance-analysis-with-power-bi.zip to /Users/manuel/Desktop/DI-Bootcamp/Week4_PreProcessing_Data/D4/DailyChallenge\n",
      "100%|█████████████████████████████████████████| 582k/582k [00:00<00:00, 815kB/s]\n",
      "100%|█████████████████████████████████████████| 582k/582k [00:00<00:00, 814kB/s]\n"
     ]
    }
   ],
   "source": [
    "! kaggle datasets download -d harigoshika/retail-sales-performance-analysis-with-power-bi"
   ]
  },
  {
   "cell_type": "code",
   "execution_count": 6,
   "metadata": {},
   "outputs": [
    {
     "name": "stdout",
     "output_type": "stream",
     "text": [
      "Archive:  retail-sales-performance-analysis-with-power-bi.zip\n",
      "  inflating: Retail Sales Dataset.pbix  \n"
     ]
    }
   ],
   "source": [
    "! unzip retail-sales-performance-analysis-with-power-bi.zip"
   ]
  },
  {
   "cell_type": "code",
   "execution_count": 13,
   "metadata": {},
   "outputs": [
    {
     "name": "stdout",
     "output_type": "stream",
     "text": [
      "Dataset URL: https://www.kaggle.com/datasets/heptapod/titanic\n",
      "License(s): DbCL-1.0\n",
      "Downloading titanic.zip to /Users/manuel/Desktop/DI-Bootcamp/Week4_PreProcessing_Data/D4/DailyChallenge\n",
      "  0%|                                               | 0.00/10.8k [00:00<?, ?B/s]\n",
      "100%|██████████████████████████████████████| 10.8k/10.8k [00:00<00:00, 8.42MB/s]\n"
     ]
    }
   ],
   "source": [
    "! kaggle datasets download -d heptapod/titanic"
   ]
  },
  {
   "cell_type": "code",
   "execution_count": 15,
   "metadata": {},
   "outputs": [
    {
     "name": "stdout",
     "output_type": "stream",
     "text": [
      "Archive:  titanic.zip\n",
      "  inflating: train_and_test2.csv     \n"
     ]
    }
   ],
   "source": [
    "! unzip titanic.zip"
   ]
  },
  {
   "cell_type": "code",
   "execution_count": 17,
   "metadata": {},
   "outputs": [
    {
     "name": "stdout",
     "output_type": "stream",
     "text": [
      "   Passengerid   Age     Fare  Sex  sibsp  zero  zero.1  zero.2  zero.3  \\\n",
      "0            1  22.0   7.2500    0      1     0       0       0       0   \n",
      "1            2  38.0  71.2833    1      1     0       0       0       0   \n",
      "2            3  26.0   7.9250    1      0     0       0       0       0   \n",
      "3            4  35.0  53.1000    1      1     0       0       0       0   \n",
      "4            5  35.0   8.0500    0      0     0       0       0       0   \n",
      "\n",
      "   zero.4  ...  zero.12  zero.13  zero.14  Pclass  zero.15  zero.16  Embarked  \\\n",
      "0       0  ...        0        0        0       3        0        0       2.0   \n",
      "1       0  ...        0        0        0       1        0        0       0.0   \n",
      "2       0  ...        0        0        0       3        0        0       2.0   \n",
      "3       0  ...        0        0        0       1        0        0       2.0   \n",
      "4       0  ...        0        0        0       3        0        0       2.0   \n",
      "\n",
      "   zero.17  zero.18  2urvived  \n",
      "0        0        0         0  \n",
      "1        0        0         1  \n",
      "2        0        0         1  \n",
      "3        0        0         1  \n",
      "4        0        0         0  \n",
      "\n",
      "[5 rows x 28 columns]\n"
     ]
    }
   ],
   "source": [
    "import pandas as pd\n",
    "df = pd.read_csv('train_and_test2.csv')\n",
    "\n",
    "print(df.head())"
   ]
  }
 ],
 "metadata": {
  "kernelspec": {
   "display_name": "Python 3",
   "language": "python",
   "name": "python3"
  },
  "language_info": {
   "codemirror_mode": {
    "name": "ipython",
    "version": 3
   },
   "file_extension": ".py",
   "mimetype": "text/x-python",
   "name": "python",
   "nbconvert_exporter": "python",
   "pygments_lexer": "ipython3",
   "version": "3.12.5"
  }
 },
 "nbformat": 4,
 "nbformat_minor": 2
}
