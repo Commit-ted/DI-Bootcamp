{
 "cells": [
  {
   "cell_type": "code",
   "execution_count": 1,
   "metadata": {},
   "outputs": [
    {
     "name": "stdout",
     "output_type": "stream",
     "text": [
      "Sleep Data:\n",
      "   index  Year  Period  Avg hrs per day sleeping  Standard Error Type of Days  \\\n",
      "0      0  2003  Annual                      8.57           0.018     All days   \n",
      "1      1  2004  Annual                      8.55           0.026     All days   \n",
      "2      2  2005  Annual                      8.62           0.023     All days   \n",
      "3      3  2006  Annual                      8.63           0.024     All days   \n",
      "4      4  2007  Annual                      8.57           0.024     All days   \n",
      "\n",
      "           Age Group  Activity   Sex  \n",
      "0  15 years and over  Sleeping  Both  \n",
      "1  15 years and over  Sleeping  Both  \n",
      "2  15 years and over  Sleeping  Both  \n",
      "3  15 years and over  Sleeping  Both  \n",
      "4  15 years and over  Sleeping  Both  \n"
     ]
    }
   ],
   "source": [
    "import pandas as pd\n",
    "\n",
    "# Load each dataset using the correct file paths\n",
    "sleep_data = pd.read_csv('/Users/manuel/Desktop/DI-Bootcamp/Week4_PreProcessing_Data/D2/ExerciseXP/Datasets_Examples/Time Americans Spend Sleeping.csv')\n",
    "\n",
    "# Display the first few rows of each dataset\n",
    "print(\"Sleep Data:\")\n",
    "print(sleep_data.head())"
   ]
  },
  {
   "cell_type": "code",
   "execution_count": 2,
   "metadata": {},
   "outputs": [
    {
     "name": "stdout",
     "output_type": "stream",
     "text": [
      "   Year  Avg hrs per day sleeping          Age Group  Activity   Sex\n",
      "0  2003                      8.57  15 years and over  Sleeping  Both\n",
      "1  2004                      8.55  15 years and over  Sleeping  Both\n",
      "2  2005                      8.62  15 years and over  Sleeping  Both\n",
      "3  2006                      8.63  15 years and over  Sleeping  Both\n",
      "4  2007                      8.57  15 years and over  Sleeping  Both\n"
     ]
    }
   ],
   "source": [
    "# Select specific columns: Year, Avg hrs per day sleeping, Age Group, Activity, and Sex\n",
    "filtered_sleep_data = sleep_data[['Year', 'Avg hrs per day sleeping', 'Age Group', 'Activity', 'Sex']]\n",
    "\n",
    "# Display the first few rows of the filtered dataset, because are the ones who have more important data \n",
    "print(filtered_sleep_data.head())"
   ]
  }
 ],
 "metadata": {
  "kernelspec": {
   "display_name": "Python 3",
   "language": "python",
   "name": "python3"
  },
  "language_info": {
   "codemirror_mode": {
    "name": "ipython",
    "version": 3
   },
   "file_extension": ".py",
   "mimetype": "text/x-python",
   "name": "python",
   "nbconvert_exporter": "python",
   "pygments_lexer": "ipython3",
   "version": "3.12.5"
  }
 },
 "nbformat": 4,
 "nbformat_minor": 2
}
