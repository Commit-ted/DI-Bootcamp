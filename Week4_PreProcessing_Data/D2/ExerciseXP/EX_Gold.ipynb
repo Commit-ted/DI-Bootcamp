{
 "cells": [
  {
   "cell_type": "code",
   "execution_count": 5,
   "metadata": {},
   "outputs": [
    {
     "name": "stdout",
     "output_type": "stream",
     "text": [
      "7 is a prime number.\n"
     ]
    },
    {
     "data": {
      "text/plain": [
       "False"
      ]
     },
     "execution_count": 5,
     "metadata": {},
     "output_type": "execute_result"
    }
   ],
   "source": [
    "#Prime def\n",
    "def number_is_prime(n):\n",
    "    \"\"\"Check if a number is prime.\"\"\"\n",
    "    if n <= 1:\n",
    "        return False\n",
    "    for i in range(2, int(n**0.5) + 1):\n",
    "        if n % i == 0:\n",
    "            return False\n",
    "    return True\n",
    "\n",
    "# Check if the number 7 is prime\n",
    "number_to_check = 7\n",
    "if number_is_prime(number_to_check):\n",
    "    print(f\"{number_to_check} is a prime number.\")\n",
    "else:\n",
    "    print(f\"{number_to_check} is not a prime number.\")\n",
    "\n",
    "number_is_prime(7)\n",
    "number_is_prime(10)"
   ]
  },
  {
   "cell_type": "code",
   "execution_count": 6,
   "metadata": {},
   "outputs": [
    {
     "name": "stdout",
     "output_type": "stream",
     "text": [
      "Numbers in the range 1 to 20 that are divisible by 3: [3, 6, 9, 12, 15, 18]\n"
     ]
    }
   ],
   "source": [
    "# Define the range and the divisor\n",
    "start = 1\n",
    "end = 20\n",
    "divisor = 3\n",
    "\n",
    "# Use a list comprehension to find all numbers in the range that are divisible by the specific number\n",
    "divisible_numbers = [num for num in range(start, end + 1) if num % divisor == 0]\n",
    "\n",
    "# Print the result\n",
    "print(f\"Numbers in the range {start} to {end} that are divisible by {divisor}: {divisible_numbers}\")\n"
   ]
  },
  {
   "cell_type": "code",
   "execution_count": null,
   "metadata": {},
   "outputs": [],
   "source": []
  }
 ],
 "metadata": {
  "kernelspec": {
   "display_name": "Python 3",
   "language": "python",
   "name": "python3"
  },
  "language_info": {
   "codemirror_mode": {
    "name": "ipython",
    "version": 3
   },
   "file_extension": ".py",
   "mimetype": "text/x-python",
   "name": "python",
   "nbconvert_exporter": "python",
   "pygments_lexer": "ipython3",
   "version": "3.12.5"
  }
 },
 "nbformat": 4,
 "nbformat_minor": 2
}
