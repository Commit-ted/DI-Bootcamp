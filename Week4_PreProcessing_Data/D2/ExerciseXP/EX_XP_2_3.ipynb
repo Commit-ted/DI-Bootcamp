{
 "cells": [
  {
   "cell_type": "code",
   "execution_count": 2,
   "metadata": {},
   "outputs": [
    {
     "name": "stderr",
     "output_type": "stream",
     "text": [
      "/var/folders/4n/_sfxdkln69z0380mkk8642fc0000gn/T/ipykernel_98510/135461480.py:5: DtypeWarning: Columns (5,6) have mixed types. Specify dtype option on import or set low_memory=False.\n",
      "  mental_health_data = pd.read_csv('/Users/manuel/Desktop/DI-Bootcamp/Week4_PreProcessing_Data/D2/ExerciseXP/Datasets_Examples/Mental health Depression disorder Data.csv')\n"
     ]
    }
   ],
   "source": [
    "import pandas as pd\n",
    "\n",
    "# Load each dataset using the correct file paths\n",
    "sleep_data = pd.read_csv('/Users/manuel/Desktop/DI-Bootcamp/Week4_PreProcessing_Data/D2/ExerciseXP/Datasets_Examples/Time Americans Spend Sleeping.csv')\n",
    "mental_health_data = pd.read_csv('/Users/manuel/Desktop/DI-Bootcamp/Week4_PreProcessing_Data/D2/ExerciseXP/Datasets_Examples/Mental health Depression disorder Data.csv')\n",
    "credit_card_approvals_data = pd.read_csv('/Users/manuel/Desktop/DI-Bootcamp/Week4_PreProcessing_Data/D2/ExerciseXP/Datasets_Examples/CreditCardsApproval/clean_dataset.csv')\n",
    "\n",
    "\n"
   ]
  },
  {
   "cell_type": "markdown",
   "metadata": {},
   "source": [
    "Display"
   ]
  },
  {
   "cell_type": "code",
   "execution_count": 3,
   "metadata": {},
   "outputs": [
    {
     "name": "stdout",
     "output_type": "stream",
     "text": [
      "Sleep Data:\n",
      "   index  Year  Period  Avg hrs per day sleeping  Standard Error Type of Days  \\\n",
      "0      0  2003  Annual                      8.57           0.018     All days   \n",
      "1      1  2004  Annual                      8.55           0.026     All days   \n",
      "2      2  2005  Annual                      8.62           0.023     All days   \n",
      "3      3  2006  Annual                      8.63           0.024     All days   \n",
      "4      4  2007  Annual                      8.57           0.024     All days   \n",
      "\n",
      "           Age Group  Activity   Sex  \n",
      "0  15 years and over  Sleeping  Both  \n",
      "1  15 years and over  Sleeping  Both  \n",
      "2  15 years and over  Sleeping  Both  \n",
      "3  15 years and over  Sleeping  Both  \n",
      "4  15 years and over  Sleeping  Both  \n"
     ]
    }
   ],
   "source": [
    "# Display the first few rows of each dataset\n",
    "print(\"Sleep Data:\")\n",
    "print(sleep_data.head())\n",
    "\n",
    "# Description: This dataset explores the sleeping patterns of Americans, including average sleep duration and factors affecting sleep such as age, time, activity and gender. "
   ]
  },
  {
   "cell_type": "code",
   "execution_count": 4,
   "metadata": {},
   "outputs": [
    {
     "name": "stdout",
     "output_type": "stream",
     "text": [
      "\n",
      "Mental Health Data:\n",
      "   index       Entity Code  Year Schizophrenia (%) Bipolar disorder (%)  \\\n",
      "0      0  Afghanistan  AFG  1990           0.16056             0.697779   \n",
      "1      1  Afghanistan  AFG  1991          0.160312             0.697961   \n",
      "2      2  Afghanistan  AFG  1992          0.160135             0.698107   \n",
      "3      3  Afghanistan  AFG  1993          0.160037             0.698257   \n",
      "4      4  Afghanistan  AFG  1994          0.160022             0.698469   \n",
      "\n",
      "  Eating disorders (%)  Anxiety disorders (%)  Drug use disorders (%)  \\\n",
      "0             0.101855               4.828830                1.677082   \n",
      "1             0.099313               4.829740                1.684746   \n",
      "2             0.096692               4.831108                1.694334   \n",
      "3             0.094336               4.830864                1.705320   \n",
      "4             0.092439               4.829423                1.716069   \n",
      "\n",
      "   Depression (%)  Alcohol use disorders (%)  \n",
      "0        4.071831                   0.672404  \n",
      "1        4.079531                   0.671768  \n",
      "2        4.088358                   0.670644  \n",
      "3        4.096190                   0.669738  \n",
      "4        4.099582                   0.669260  \n"
     ]
    }
   ],
   "source": [
    "print(\"\\nMental Health Data:\")\n",
    "print(mental_health_data.head())\n",
    "\n",
    "# Description: This dataset focuses on global trends in mental health disorders, analyzing data across different regions and demographic groups."
   ]
  },
  {
   "cell_type": "code",
   "execution_count": 5,
   "metadata": {},
   "outputs": [
    {
     "name": "stdout",
     "output_type": "stream",
     "text": [
      "\n",
      "Credit Card Approvals Data:\n",
      "   Gender    Age   Debt  Married  BankCustomer     Industry Ethnicity  \\\n",
      "0       1  30.83  0.000        1             1  Industrials     White   \n",
      "1       0  58.67  4.460        1             1    Materials     Black   \n",
      "2       0  24.50  0.500        1             1    Materials     Black   \n",
      "3       1  27.83  1.540        1             1  Industrials     White   \n",
      "4       1  20.17  5.625        1             1  Industrials     White   \n",
      "\n",
      "   YearsEmployed  PriorDefault  Employed  CreditScore  DriversLicense  \\\n",
      "0           1.25             1         1            1               0   \n",
      "1           3.04             1         1            6               0   \n",
      "2           1.50             1         0            0               0   \n",
      "3           3.75             1         1            5               1   \n",
      "4           1.71             1         0            0               0   \n",
      "\n",
      "        Citizen  ZipCode  Income  Approved  \n",
      "0       ByBirth      202       0         1  \n",
      "1       ByBirth       43     560         1  \n",
      "2       ByBirth      280     824         1  \n",
      "3       ByBirth      100       3         1  \n",
      "4  ByOtherMeans      120       0         1  \n"
     ]
    }
   ],
   "source": [
    "print(\"\\nCredit Card Approvals Data:\")\n",
    "print(credit_card_approvals_data.head())\n",
    "\n",
    "#Description: This dataset contains information related to credit card applications and approvals, including applicant details, credit score, income and whether their application was approved or denied"
   ]
  },
  {
   "cell_type": "markdown",
   "metadata": {},
   "source": [
    "Identify Data Types"
   ]
  },
  {
   "cell_type": "code",
   "execution_count": 6,
   "metadata": {},
   "outputs": [],
   "source": [
    "def categorize_columns(df):\n",
    "    quantitative = []\n",
    "    qualitative = []\n",
    "    \n",
    "    for column in df.columns:\n",
    "        if pd.api.types.is_numeric_dtype(df[column]):\n",
    "            quantitative.append(column)\n",
    "        else:\n",
    "            qualitative.append(column)\n",
    "    \n",
    "    return quantitative, qualitative\n",
    "\n",
    "# Apply the function to each dataset\n",
    "sleep_quantitative, sleep_qualitative = categorize_columns(sleep_data)\n",
    "mental_health_quantitative, mental_health_qualitative = categorize_columns(mental_health_data)\n",
    "credit_card_quantitative, credit_card_qualitative = categorize_columns(credit_card_approvals_data)\n"
   ]
  },
  {
   "cell_type": "code",
   "execution_count": 9,
   "metadata": {},
   "outputs": [
    {
     "name": "stdout",
     "output_type": "stream",
     "text": [
      "Sleep Data:\n",
      "Quantitative Columns: ['index', 'Year', 'Avg hrs per day sleeping', 'Standard Error']\n",
      "Qualitative Columns: ['Period', 'Type of Days', 'Age Group', 'Activity', 'Sex']\n",
      "\n",
      "Mental Health Data:\n",
      "Quantitative Columns: ['index', 'Anxiety disorders (%)', 'Drug use disorders (%)', 'Depression (%)', 'Alcohol use disorders (%)']\n",
      "Qualitative Columns: ['Entity', 'Code', 'Year', 'Schizophrenia (%)', 'Bipolar disorder (%)', 'Eating disorders (%)']\n",
      "\n",
      "Credit Card Approvals Data:\n",
      "Quantitative Columns: ['Gender', 'Age', 'Debt', 'Married', 'BankCustomer', 'YearsEmployed', 'PriorDefault', 'Employed', 'CreditScore', 'DriversLicense', 'ZipCode', 'Income', 'Approved']\n",
      "Qualitative Columns: ['Industry', 'Ethnicity', 'Citizen']\n"
     ]
    }
   ],
   "source": [
    "# Display the results\n",
    "print(\"Sleep Data:\")\n",
    "print(\"Quantitative Columns:\", sleep_quantitative)\n",
    "print(\"Qualitative Columns:\", sleep_qualitative)\n",
    "\n",
    "print(\"\\nMental Health Data:\")\n",
    "print(\"Quantitative Columns:\", mental_health_quantitative)\n",
    "print(\"Qualitative Columns:\", mental_health_qualitative)\n",
    "\n",
    "print(\"\\nCredit Card Approvals Data:\")\n",
    "print(\"Quantitative Columns:\", credit_card_quantitative)\n",
    "print(\"Qualitative Columns:\", credit_card_qualitative)"
   ]
  }
 ],
 "metadata": {
  "kernelspec": {
   "display_name": "Python 3",
   "language": "python",
   "name": "python3"
  },
  "language_info": {
   "codemirror_mode": {
    "name": "ipython",
    "version": 3
   },
   "file_extension": ".py",
   "mimetype": "text/x-python",
   "name": "python",
   "nbconvert_exporter": "python",
   "pygments_lexer": "ipython3",
   "version": "3.12.5"
  }
 },
 "nbformat": 4,
 "nbformat_minor": 2
}
