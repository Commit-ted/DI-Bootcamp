{
 "cells": [
  {
   "cell_type": "code",
   "execution_count": 1,
   "metadata": {},
   "outputs": [
    {
     "name": "stdout",
     "output_type": "stream",
     "text": [
      "Requirement already satisfied: Pillow in /Library/Frameworks/Python.framework/Versions/3.12/lib/python3.12/site-packages (10.4.0)\n",
      "Note: you may need to restart the kernel to use updated packages.\n"
     ]
    }
   ],
   "source": [
    "pip install Pillow\n"
   ]
  },
  {
   "cell_type": "code",
   "execution_count": 2,
   "metadata": {},
   "outputs": [
    {
     "ename": "FileNotFoundError",
     "evalue": "[Errno 2] No such file or directory: '/Users/manuel/Desktop/DI-Bootcamp/Week4_PreProcessing_Data/D3/DailyChallenge/Flowers/flower1.jpg'",
     "output_type": "error",
     "traceback": [
      "\u001b[0;31m---------------------------------------------------------------------------\u001b[0m",
      "\u001b[0;31mFileNotFoundError\u001b[0m                         Traceback (most recent call last)",
      "Cell \u001b[0;32mIn[2], line 24\u001b[0m\n\u001b[1;32m     21\u001b[0m image_path \u001b[38;5;241m=\u001b[39m \u001b[38;5;124m'\u001b[39m\u001b[38;5;124m/Users/manuel/Desktop/DI-Bootcamp/Week4_PreProcessing_Data/D3/DailyChallenge/Flowers/flower1.jpg\u001b[39m\u001b[38;5;124m'\u001b[39m  \u001b[38;5;66;03m# Replace with the path to your image file\u001b[39;00m\n\u001b[1;32m     23\u001b[0m \u001b[38;5;66;03m# Load the image\u001b[39;00m\n\u001b[0;32m---> 24\u001b[0m original_image \u001b[38;5;241m=\u001b[39m \u001b[43mImage\u001b[49m\u001b[38;5;241;43m.\u001b[39;49m\u001b[43mopen\u001b[49m\u001b[43m(\u001b[49m\u001b[43mimage_path\u001b[49m\u001b[43m)\u001b[49m\n\u001b[1;32m     26\u001b[0m \u001b[38;5;66;03m# Rotate the image by 90 degrees\u001b[39;00m\n\u001b[1;32m     27\u001b[0m rotated_image \u001b[38;5;241m=\u001b[39m original_image\u001b[38;5;241m.\u001b[39mrotate(\u001b[38;5;241m90\u001b[39m)\n",
      "File \u001b[0;32m/Library/Frameworks/Python.framework/Versions/3.12/lib/python3.12/site-packages/PIL/Image.py:3431\u001b[0m, in \u001b[0;36mopen\u001b[0;34m(fp, mode, formats)\u001b[0m\n\u001b[1;32m   3428\u001b[0m     filename \u001b[38;5;241m=\u001b[39m os\u001b[38;5;241m.\u001b[39mpath\u001b[38;5;241m.\u001b[39mrealpath(os\u001b[38;5;241m.\u001b[39mfspath(fp))\n\u001b[1;32m   3430\u001b[0m \u001b[38;5;28;01mif\u001b[39;00m filename:\n\u001b[0;32m-> 3431\u001b[0m     fp \u001b[38;5;241m=\u001b[39m \u001b[43mbuiltins\u001b[49m\u001b[38;5;241;43m.\u001b[39;49m\u001b[43mopen\u001b[49m\u001b[43m(\u001b[49m\u001b[43mfilename\u001b[49m\u001b[43m,\u001b[49m\u001b[43m \u001b[49m\u001b[38;5;124;43m\"\u001b[39;49m\u001b[38;5;124;43mrb\u001b[39;49m\u001b[38;5;124;43m\"\u001b[39;49m\u001b[43m)\u001b[49m\n\u001b[1;32m   3432\u001b[0m     exclusive_fp \u001b[38;5;241m=\u001b[39m \u001b[38;5;28;01mTrue\u001b[39;00m\n\u001b[1;32m   3433\u001b[0m \u001b[38;5;28;01melse\u001b[39;00m:\n",
      "\u001b[0;31mFileNotFoundError\u001b[0m: [Errno 2] No such file or directory: '/Users/manuel/Desktop/DI-Bootcamp/Week4_PreProcessing_Data/D3/DailyChallenge/Flowers/flower1.jpg'"
     ]
    }
   ],
   "source": [
    "# Re-import libraries due to environment reset\n",
    "import matplotlib.pyplot as plt\n",
    "from PIL import Image, ImageOps\n",
    "\n",
    "# Function to display images side by side\n",
    "def show_images(original, augmented, title):\n",
    "    plt.figure(figsize=(12, 6))\n",
    "    plt.subplot(1, 2, 1)\n",
    "    plt.imshow(original)\n",
    "    plt.title('Original Image')\n",
    "    plt.axis('off')\n",
    "\n",
    "    plt.subplot(1, 2, 2)\n",
    "    plt.imshow(augmented)\n",
    "    plt.title(title)\n",
    "    plt.axis('off')\n",
    "\n",
    "    plt.show()\n",
    "\n",
    "# File path for the images\n",
    "image_path = '/Users/manuel/Desktop/DI-Bootcamp/Week4_PreProcessing_Data/D3/DailyChallenge/Flowers/flower1.jpg'  # Replace with the path to your image file\n",
    "\n",
    "# Load the image\n",
    "original_image = Image.open(image_path)\n",
    "\n",
    "# Rotate the image by 90 degrees\n",
    "rotated_image = original_image.rotate(90)\n",
    "\n",
    "# Flip the image horizontally\n",
    "flipped_horizontal_image = ImageOps.mirror(original_image)\n",
    "\n",
    "# Flip the image vertically\n",
    "flipped_vertical_image = ImageOps.flip(original_image)\n",
    "\n",
    "# Zoom in on the image (scale by 1.2x)\n",
    "width, height = original_image.size\n",
    "zoomed_image = original_image.resize((int(width * 1.2), int(height * 1.2)))\n",
    "\n",
    "# Display the original and augmented images side by side for comparison\n",
    "show_images(original_image, rotated_image, 'Rotated 90 Degrees')\n",
    "show_images(original_image, flipped_horizontal_image, 'Flipped Horizontally')\n",
    "show_images(original_image, flipped_vertical_image, 'Flipped Vertically')\n",
    "show_images(original_image, zoomed_image, 'Zoomed In (1.2x)')\n"
   ]
  }
 ],
 "metadata": {
  "kernelspec": {
   "display_name": "Python 3",
   "language": "python",
   "name": "python3"
  },
  "language_info": {
   "codemirror_mode": {
    "name": "ipython",
    "version": 3
   },
   "file_extension": ".py",
   "mimetype": "text/x-python",
   "name": "python",
   "nbconvert_exporter": "python",
   "pygments_lexer": "ipython3",
   "version": "3.12.5"
  }
 },
 "nbformat": 4,
 "nbformat_minor": 2
}
