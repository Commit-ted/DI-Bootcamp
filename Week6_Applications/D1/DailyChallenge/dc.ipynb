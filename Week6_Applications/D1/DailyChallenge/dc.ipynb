{
 "cells": [
  {
   "cell_type": "markdown",
   "metadata": {},
   "source": [
    "## Daily Challenge: NumPy, Pandas, and Matplotlib Integration"
   ]
  },
  {
   "cell_type": "markdown",
   "metadata": {},
   "source": [
    "### 1. Data Preparation:\n",
    "\n",
    "Hint 1: Use np.random.uniform(low, high, size) to generate the temperature data. \\\n",
    "Hint 2: Create a DataFrame using pd.DataFrame(data, index, columns) with appropriate index and columns. \n",
    "\n",
    "Use NumPy to generate a synthetic dataset representing average monthly temperatures (in degrees Celsius) for 12 months across 10 different cities. The temperatures should range from -5 to 35 degrees. \n",
    "\n",
    "Convert this NumPy array into a Pandas DataFrame, adding city names as index and months as columns."
   ]
  },
  {
   "cell_type": "code",
   "execution_count": 1,
   "metadata": {},
   "outputs": [],
   "source": [
    "# !pip install geopy"
   ]
  },
  {
   "cell_type": "code",
   "execution_count": 2,
   "metadata": {},
   "outputs": [],
   "source": [
    "import numpy as np\n",
    "import pandas as pd\n",
    "\n",
    "#  Capitals of the world\n",
    "capitals = ['Tel Aviv', 'London', 'Paris', 'Berlin', 'Tokyo', 'Beijing', 'Moscow', 'Washington', 'Ottawa']\n",
    "\n",
    "months = pd.date_range(start='2024-01-01', end='2024-12-01', freq='MS').strftime('%B')"
   ]
  },
  {
   "cell_type": "code",
   "execution_count": 3,
   "metadata": {},
   "outputs": [
    {
     "data": {
      "text/plain": [
       "[Location(Tel-Aviv, Tel Aviv Subdistrict, Tel-Aviv District, Israel, (32.0852997, 34.7818064, 0.0)),\n",
       " Location(London, Greater London, England, United Kingdom, (51.4893335, -0.14405508452768728, 0.0)),\n",
       " Location(Paris, Ile-de-France, Metropolitan France, France, (48.8588897, 2.3200410217200766, 0.0)),\n",
       " Location(Berlin, Germany, (52.510885, 13.3989367, 0.0)),\n",
       " Location(Tokyo, Japan, (35.6821936, 139.762221, 0.0)),\n",
       " Location(Beijing, China, (40.190632, 116.412144, 0.0)),\n",
       " Location(Moscow, Central Federal District, Russia, (55.7505412, 37.6174782, 0.0)),\n",
       " Location(Washington, United States, (47.2868352, -120.212613, 0.0)),\n",
       " Location(Ottawa, Eastern Ontario, Ontario, Canada, (45.4208777, -75.6901106, 0.0))]"
      ]
     },
     "execution_count": 3,
     "metadata": {},
     "output_type": "execute_result"
    }
   ],
   "source": [
    "from geopy.geocoders import Nominatim\n",
    "\n",
    "# I used geopy to get latitude for futher temperature generation\n",
    "gl = Nominatim(user_agent=\"di_challenge\")\n",
    "capitals_coord= [gl.geocode(city, language='en', timeout=100) for city in capitals]\n",
    "\n",
    "capitals_coord"
   ]
  },
  {
   "cell_type": "code",
   "execution_count": 4,
   "metadata": {},
   "outputs": [],
   "source": [
    "import numpy as np\n",
    "import random\n",
    "\n",
    "# I thought that it would be interesting to try to generate temperature close to the actual\n",
    "# I decided to use latitude and month to account for the effect of seasonality and closeness to the equator\n",
    "# But it turns out that it is not that easy to find a good formula\n",
    "# Here is the best that I could come up with\n",
    "\n",
    "def generate_temperature(month, latitude, base_temp=0, mon_adj=8, lat_adj=11, temp_range=2):\n",
    "    # Assuming months close to Jan are the coldest and to July are the warmest\n",
    "    # We can use cosine function so that factor would approach -1 the closer month is to Jan and 1 for July\n",
    "    # We achieve this by scaling month so that period is 12 and then adding pi to shift the cosine function to the right\n",
    "    # I've researched how temp changes monthly througt the year and found that this approach gives good results\n",
    "    mon_scale = np.cos(((month - 1) * 2 * np.pi / 12) + np.pi)\n",
    "    \n",
    "    # Here we adjust for the latitude.\n",
    "    # So it will be 1 the closer it to the equator and -1 the closer it to the poles\n",
    "    lat_scale = np.cos(np.pi * abs(latitude) / 90)\n",
    "    \n",
    "    # So we use base temperature and adjust it for the month and latitude\n",
    "    adj_temp = base_temp + mon_scale * mon_adj  + lat_scale * lat_adj\n",
    "    \n",
    "    return np.random.uniform(adj_temp - temp_range, adj_temp + temp_range)"
   ]
  },
  {
   "cell_type": "code",
   "execution_count": 5,
   "metadata": {},
   "outputs": [
    {
     "data": {
      "application/vnd.plotly.v1+json": {
       "config": {
        "plotlyServerURL": "https://plot.ly"
       },
       "data": [
        {
         "line": {
          "color": "rgb(255, 113, 0)",
          "width": 2
         },
         "mode": "lines",
         "name": "Tel Aviv (32°) 9 10 24.03 4.04",
         "type": "scatter",
         "x": [
          1,
          2,
          3,
          4,
          5,
          6,
          7,
          8,
          9,
          10,
          11,
          12
         ],
         "y": [
          4.396823929886154,
          4.037225380567152,
          8.455945298735143,
          14.292946397495516,
          19.170732771852464,
          20.840488704049786,
          22.951690698036217,
          24.031326406650894,
          17.125780059869985,
          14.129492704041338,
          10.0766379825437,
          7.036640882086882
         ]
        },
        {
         "line": {
          "color": "rgb(255, 113, 0)",
          "dash": "dash",
          "width": 2
         },
         "mode": "lines",
         "name": "Moscow (52°) 9 10 16.16 -5.08",
         "type": "scatter",
         "x": [
          1,
          2,
          3,
          4,
          5,
          6,
          7,
          8,
          9,
          10,
          11,
          12
         ],
         "y": [
          -5.077891644745361,
          -1.8405556025954337,
          3.0012822999454554,
          5.112928574029434,
          10.97021253166513,
          13.301476910531887,
          16.159815616207226,
          13.197425214815581,
          13.04312660541865,
          7.615263404981512,
          0.2923118787990928,
          -1.1311454844435729
         ]
        },
        {
         "line": {
          "color": "rgb(255, 215, 0)",
          "width": 2
         },
         "mode": "lines",
         "name": "Tel Aviv (32°) 5 15 26.37 -3.85",
         "type": "scatter",
         "x": [
          1,
          2,
          3,
          4,
          5,
          6,
          7,
          8,
          9,
          10,
          11,
          12
         ],
         "y": [
          -3.6906996496568234,
          -3.8450924934669186,
          2.737321694293888,
          10.069689482627965,
          16.33008103177079,
          22.338410732344066,
          26.37332636568831,
          22.786094354355463,
          16.45759255554745,
          9.62566092123712,
          2.40855987783676,
          -1.509009555724623
         ]
        },
        {
         "line": {
          "color": "rgb(255, 215, 0)",
          "dash": "dash",
          "width": 2
         },
         "mode": "lines",
         "name": "Moscow (52°) 5 15 18.61 -14.59",
         "type": "scatter",
         "x": [
          1,
          2,
          3,
          4,
          5,
          6,
          7,
          8,
          9,
          10,
          11,
          12
         ],
         "y": [
          -14.59263734134885,
          -10.170613599168375,
          -5.6338978403048285,
          1.9050622970484656,
          11.065849431798096,
          13.960866252999397,
          18.612148525556787,
          15.831149149365169,
          9.468673899565557,
          1.139445415526822,
          -6.289631160425754,
          -11.3434171806798
         ]
        },
        {
         "line": {
          "color": "rgb(0, 15, 233)",
          "width": 2
         },
         "mode": "lines",
         "name": "Tel Aviv (32°) 15 13 32.97 6.94",
         "type": "scatter",
         "x": [
          1,
          2,
          3,
          4,
          5,
          6,
          7,
          8,
          9,
          10,
          11,
          12
         ],
         "y": [
          6.944376761946453,
          7.827316773645617,
          12.776930043784677,
          19.800144905006643,
          25.09714210391427,
          30.135776161220978,
          31.580952563275183,
          32.97416777674509,
          27.17861727830941,
          20.44718528379263,
          12.98272366602545,
          7.8604130269115275
         ]
        },
        {
         "line": {
          "color": "rgb(0, 15, 233)",
          "dash": "dash",
          "width": 2
         },
         "mode": "lines",
         "name": "Moscow (52°) 15 13 25.90 -1.75",
         "type": "scatter",
         "x": [
          1,
          2,
          3,
          4,
          5,
          6,
          7,
          8,
          9,
          10,
          11,
          12
         ],
         "y": [
          -1.7457564378909303,
          2.7745579290247973,
          6.752480831162482,
          10.949296511290129,
          18.063652153694655,
          21.810709357693447,
          25.901249894180218,
          24.827929986993595,
          17.48538311555521,
          13.58820870526268,
          3.8394899432161127,
          -0.11709572088652953
         ]
        },
        {
         "line": {
          "color": "rgb(0, 39, 255)",
          "width": 2
         },
         "mode": "lines",
         "name": "Tel Aviv (32°) 9 13 28.75 1.61",
         "type": "scatter",
         "x": [
          1,
          2,
          3,
          4,
          5,
          6,
          7,
          8,
          9,
          10,
          11,
          12
         ],
         "y": [
          1.61486172059483,
          3.91962880181413,
          6.338314157073713,
          15.536238795881438,
          21.544670464502214,
          25.94171849654913,
          28.753640405745447,
          26.133413248830706,
          18.6066332659857,
          15.00631666616612,
          6.650278792185333,
          3.68496375978055
         ]
        },
        {
         "line": {
          "color": "rgb(0, 39, 255)",
          "dash": "dash",
          "width": 2
         },
         "mode": "lines",
         "name": "Moscow (52°) 9 13 19.84 -8.57",
         "type": "scatter",
         "x": [
          1,
          2,
          3,
          4,
          5,
          6,
          7,
          8,
          9,
          10,
          11,
          12
         ],
         "y": [
          -8.569225310397194,
          -6.60582679012575,
          0.13184499011869244,
          5.021801925047969,
          11.55456225813429,
          17.535189678712765,
          19.83661920584567,
          15.773396237872982,
          12.90557616668627,
          7.6161511798530634,
          0.5292407248783766,
          -3.7150781692559196
         ]
        },
        {
         "line": {
          "color": "rgb(58, 255, 130)",
          "width": 2
         },
         "mode": "lines",
         "name": "Tel Aviv (32°) 14 12 30.33 4.90",
         "type": "scatter",
         "x": [
          1,
          2,
          3,
          4,
          5,
          6,
          7,
          8,
          9,
          10,
          11,
          12
         ],
         "y": [
          4.903593200528176,
          9.814977400190505,
          10.886242492580559,
          20.164202886425407,
          24.463126399732133,
          27.816130066784883,
          28.89554479435298,
          30.330307090142483,
          23.18558492407375,
          17.96991252426707,
          11.795907408895186,
          7.488767250172493
         ]
        },
        {
         "line": {
          "color": "rgb(58, 255, 130)",
          "dash": "dash",
          "width": 2
         },
         "mode": "lines",
         "name": "Moscow (52°) 14 12 24.65 -0.80",
         "type": "scatter",
         "x": [
          1,
          2,
          3,
          4,
          5,
          6,
          7,
          8,
          9,
          10,
          11,
          12
         ],
         "y": [
          1.0512024080761937,
          -0.7972712236883024,
          6.533381601024571,
          12.726615993686753,
          16.468000922026206,
          19.736811655901633,
          24.650958599350496,
          20.55256447116824,
          16.462852453212456,
          12.38670674366639,
          5.32590337457567,
          1.5283153881426363
         ]
        },
        {
         "line": {
          "color": "rgb(30, 222, 183)",
          "width": 2
         },
         "mode": "lines",
         "name": "Tel Aviv (32°) 12 10 27.80 7.13",
         "type": "scatter",
         "x": [
          1,
          2,
          3,
          4,
          5,
          6,
          7,
          8,
          9,
          10,
          11,
          12
         ],
         "y": [
          7.128639071959091,
          8.393952786232033,
          13.070218496460269,
          17.811573370817754,
          23.491307612758707,
          23.536661070463502,
          27.803265242571673,
          24.081803341128094,
          23.733398284563922,
          16.05191316911604,
          12.19604373475865,
          7.997459821556614
         ]
        },
        {
         "line": {
          "color": "rgb(30, 222, 183)",
          "dash": "dash",
          "width": 2
         },
         "mode": "lines",
         "name": "Moscow (52°) 12 10 19.71 -2.12",
         "type": "scatter",
         "x": [
          1,
          2,
          3,
          4,
          5,
          6,
          7,
          8,
          9,
          10,
          11,
          12
         ],
         "y": [
          -2.119902481749366,
          0.3911862773281558,
          4.269761969383568,
          9.880165822860029,
          12.721439833247809,
          19.710766390025313,
          19.02898554738548,
          19.01100621216409,
          15.312608481681098,
          10.668452762320857,
          5.153215753535527,
          0.6463033902486051
         ]
        },
        {
         "line": {
          "color": "rgb(134, 0, 102)",
          "width": 2
         },
         "mode": "lines",
         "name": "Tel Aviv (32°) 10 15 27.91 1.21",
         "type": "scatter",
         "x": [
          1,
          2,
          3,
          4,
          5,
          6,
          7,
          8,
          9,
          10,
          11,
          12
         ],
         "y": [
          1.2071877285929062,
          3.485778115794415,
          5.919219010517759,
          14.87647613718228,
          20.887706848444,
          26.643372592682624,
          27.90954659862695,
          26.58087958898765,
          20.52840002224304,
          14.748874195690194,
          8.477121068270634,
          3.778542957540039
         ]
        },
        {
         "line": {
          "color": "rgb(134, 0, 102)",
          "dash": "dash",
          "width": 2
         },
         "mode": "lines",
         "name": "Moscow (52°) 10 15 22.03 -9.51",
         "type": "scatter",
         "x": [
          1,
          2,
          3,
          4,
          5,
          6,
          7,
          8,
          9,
          10,
          11,
          12
         ],
         "y": [
          -9.51074964830402,
          -6.223911525630804,
          -0.07890745934992527,
          9.207222963955829,
          14.599938225993679,
          21.629604043096087,
          21.53294229058661,
          22.028341012283892,
          16.05353019960723,
          6.003717260218098,
          1.774117318637725,
          -6.575866396795703
         ]
        },
        {
         "line": {
          "color": "rgb(105, 255, 64)",
          "width": 2
         },
         "mode": "lines",
         "name": "Tel Aviv (32°) 7 9 21.91 2.59",
         "type": "scatter",
         "x": [
          1,
          2,
          3,
          4,
          5,
          6,
          7,
          8,
          9,
          10,
          11,
          12
         ],
         "y": [
          3.4168331049162033,
          2.5895335897517455,
          6.97717147406573,
          12.202661530037592,
          17.122963137370114,
          17.965092941410564,
          21.907030299264886,
          18.345100134307177,
          16.164933079643482,
          12.29517342618904,
          7.656404060706758,
          5.643480411524507
         ]
        },
        {
         "line": {
          "color": "rgb(105, 255, 64)",
          "dash": "dash",
          "width": 2
         },
         "mode": "lines",
         "name": "Moscow (52°) 7 9 14.10 -5.19",
         "type": "scatter",
         "x": [
          1,
          2,
          3,
          4,
          5,
          6,
          7,
          8,
          9,
          10,
          11,
          12
         ],
         "y": [
          -5.186451931347259,
          -3.8766130973866035,
          1.8199432947276621,
          4.3046297119303,
          7.514139361206815,
          11.659539698723826,
          14.101661844142729,
          13.769246226677264,
          9.29167883527658,
          6.1919242106814245,
          -1.7216009957017233,
          -1.983991357364451
         ]
        },
        {
         "line": {
          "color": "rgb(0, 44, 255)",
          "width": 2
         },
         "mode": "lines",
         "name": "Tel Aviv (32°) 11 10 26.04 5.82",
         "type": "scatter",
         "x": [
          1,
          2,
          3,
          4,
          5,
          6,
          7,
          8,
          9,
          10,
          11,
          12
         ],
         "y": [
          5.93979682846767,
          7.529249111965772,
          9.800099384780175,
          15.004617749876427,
          22.09417998263887,
          23.766728472635364,
          26.038411205046632,
          23.813904627834376,
          20.58253132158567,
          16.012220228618318,
          10.693916495775333,
          5.815637700825857
         ]
        },
        {
         "line": {
          "color": "rgb(0, 44, 255)",
          "dash": "dash",
          "width": 2
         },
         "mode": "lines",
         "name": "Moscow (52°) 11 10 20.24 -1.01",
         "type": "scatter",
         "x": [
          1,
          2,
          3,
          4,
          5,
          6,
          7,
          8,
          9,
          10,
          11,
          12
         ],
         "y": [
          -0.9320728647733607,
          -1.0080922657745353,
          3.3616797789012867,
          7.389039806998287,
          13.19640758301041,
          16.102644265593014,
          20.237819073344095,
          17.06098319185344,
          11.76227473125297,
          9.143148872755793,
          2.1914907019732492,
          -0.4987698700394505
         ]
        },
        {
         "line": {
          "color": "rgb(73, 0, 146)",
          "width": 2
         },
         "mode": "lines",
         "name": "Tel Aviv (32°) 11 8 25.52 7.54",
         "type": "scatter",
         "x": [
          1,
          2,
          3,
          4,
          5,
          6,
          7,
          8,
          9,
          10,
          11,
          12
         ],
         "y": [
          8.886701989741127,
          8.843366764526492,
          12.747557492275362,
          14.051438845027057,
          19.96917950299289,
          21.761585561266738,
          25.523623143459915,
          23.10546731480074,
          20.011335333310807,
          17.28427716244096,
          11.437778619740726,
          7.538540923355909
         ]
        },
        {
         "line": {
          "color": "rgb(73, 0, 146)",
          "dash": "dash",
          "width": 2
         },
         "mode": "lines",
         "name": "Moscow (52°) 11 8 17.62 -1.49",
         "type": "scatter",
         "x": [
          1,
          2,
          3,
          4,
          5,
          6,
          7,
          8,
          9,
          10,
          11,
          12
         ],
         "y": [
          -1.4877791252350998,
          2.0661660162515445,
          2.884667855997303,
          9.463179660341359,
          14.331847567050367,
          16.600766297142698,
          17.62206883169945,
          15.428944395418217,
          12.788475745613184,
          9.039378246069882,
          3.5469924065274356,
          -0.33975628839581207
         ]
        },
        {
         "line": {
          "color": "rgb(7, 169, 238)",
          "width": 2
         },
         "mode": "lines",
         "name": "Tel Aviv (32°) 8 10 21.44 2.94",
         "type": "scatter",
         "x": [
          1,
          2,
          3,
          4,
          5,
          6,
          7,
          8,
          9,
          10,
          11,
          12
         ],
         "y": [
          2.935889050124218,
          5.898076380439948,
          9.130852680897636,
          11.406690995208072,
          18.994594740487937,
          21.21361678130122,
          21.442462376420117,
          21.31633943452527,
          18.31898119028559,
          11.636673630677366,
          6.978790393318059,
          6.043874538391513
         ]
        },
        {
         "line": {
          "color": "rgb(7, 169, 238)",
          "dash": "dash",
          "width": 2
         },
         "mode": "lines",
         "name": "Moscow (52°) 8 10 14.55 -4.33",
         "type": "scatter",
         "x": [
          1,
          2,
          3,
          4,
          5,
          6,
          7,
          8,
          9,
          10,
          11,
          12
         ],
         "y": [
          -4.325527502851623,
          -2.9439733144402256,
          -1.1634857563260046,
          6.0932893552908745,
          9.738343885846437,
          14.55208080178195,
          14.16637433090633,
          12.516219231087225,
          9.234573817626867,
          3.664911705647514,
          0.31708598044759917,
          -4.137796605183933
         ]
        }
       ],
       "layout": {
        "height": 600,
        "legend": {
         "xanchor": "left",
         "yanchor": "top"
        },
        "template": {
         "data": {
          "bar": [
           {
            "error_x": {
             "color": "#2a3f5f"
            },
            "error_y": {
             "color": "#2a3f5f"
            },
            "marker": {
             "line": {
              "color": "#E5ECF6",
              "width": 0.5
             },
             "pattern": {
              "fillmode": "overlay",
              "size": 10,
              "solidity": 0.2
             }
            },
            "type": "bar"
           }
          ],
          "barpolar": [
           {
            "marker": {
             "line": {
              "color": "#E5ECF6",
              "width": 0.5
             },
             "pattern": {
              "fillmode": "overlay",
              "size": 10,
              "solidity": 0.2
             }
            },
            "type": "barpolar"
           }
          ],
          "carpet": [
           {
            "aaxis": {
             "endlinecolor": "#2a3f5f",
             "gridcolor": "white",
             "linecolor": "white",
             "minorgridcolor": "white",
             "startlinecolor": "#2a3f5f"
            },
            "baxis": {
             "endlinecolor": "#2a3f5f",
             "gridcolor": "white",
             "linecolor": "white",
             "minorgridcolor": "white",
             "startlinecolor": "#2a3f5f"
            },
            "type": "carpet"
           }
          ],
          "choropleth": [
           {
            "colorbar": {
             "outlinewidth": 0,
             "ticks": ""
            },
            "type": "choropleth"
           }
          ],
          "contour": [
           {
            "colorbar": {
             "outlinewidth": 0,
             "ticks": ""
            },
            "colorscale": [
             [
              0,
              "#0d0887"
             ],
             [
              0.1111111111111111,
              "#46039f"
             ],
             [
              0.2222222222222222,
              "#7201a8"
             ],
             [
              0.3333333333333333,
              "#9c179e"
             ],
             [
              0.4444444444444444,
              "#bd3786"
             ],
             [
              0.5555555555555556,
              "#d8576b"
             ],
             [
              0.6666666666666666,
              "#ed7953"
             ],
             [
              0.7777777777777778,
              "#fb9f3a"
             ],
             [
              0.8888888888888888,
              "#fdca26"
             ],
             [
              1,
              "#f0f921"
             ]
            ],
            "type": "contour"
           }
          ],
          "contourcarpet": [
           {
            "colorbar": {
             "outlinewidth": 0,
             "ticks": ""
            },
            "type": "contourcarpet"
           }
          ],
          "heatmap": [
           {
            "colorbar": {
             "outlinewidth": 0,
             "ticks": ""
            },
            "colorscale": [
             [
              0,
              "#0d0887"
             ],
             [
              0.1111111111111111,
              "#46039f"
             ],
             [
              0.2222222222222222,
              "#7201a8"
             ],
             [
              0.3333333333333333,
              "#9c179e"
             ],
             [
              0.4444444444444444,
              "#bd3786"
             ],
             [
              0.5555555555555556,
              "#d8576b"
             ],
             [
              0.6666666666666666,
              "#ed7953"
             ],
             [
              0.7777777777777778,
              "#fb9f3a"
             ],
             [
              0.8888888888888888,
              "#fdca26"
             ],
             [
              1,
              "#f0f921"
             ]
            ],
            "type": "heatmap"
           }
          ],
          "heatmapgl": [
           {
            "colorbar": {
             "outlinewidth": 0,
             "ticks": ""
            },
            "colorscale": [
             [
              0,
              "#0d0887"
             ],
             [
              0.1111111111111111,
              "#46039f"
             ],
             [
              0.2222222222222222,
              "#7201a8"
             ],
             [
              0.3333333333333333,
              "#9c179e"
             ],
             [
              0.4444444444444444,
              "#bd3786"
             ],
             [
              0.5555555555555556,
              "#d8576b"
             ],
             [
              0.6666666666666666,
              "#ed7953"
             ],
             [
              0.7777777777777778,
              "#fb9f3a"
             ],
             [
              0.8888888888888888,
              "#fdca26"
             ],
             [
              1,
              "#f0f921"
             ]
            ],
            "type": "heatmapgl"
           }
          ],
          "histogram": [
           {
            "marker": {
             "pattern": {
              "fillmode": "overlay",
              "size": 10,
              "solidity": 0.2
             }
            },
            "type": "histogram"
           }
          ],
          "histogram2d": [
           {
            "colorbar": {
             "outlinewidth": 0,
             "ticks": ""
            },
            "colorscale": [
             [
              0,
              "#0d0887"
             ],
             [
              0.1111111111111111,
              "#46039f"
             ],
             [
              0.2222222222222222,
              "#7201a8"
             ],
             [
              0.3333333333333333,
              "#9c179e"
             ],
             [
              0.4444444444444444,
              "#bd3786"
             ],
             [
              0.5555555555555556,
              "#d8576b"
             ],
             [
              0.6666666666666666,
              "#ed7953"
             ],
             [
              0.7777777777777778,
              "#fb9f3a"
             ],
             [
              0.8888888888888888,
              "#fdca26"
             ],
             [
              1,
              "#f0f921"
             ]
            ],
            "type": "histogram2d"
           }
          ],
          "histogram2dcontour": [
           {
            "colorbar": {
             "outlinewidth": 0,
             "ticks": ""
            },
            "colorscale": [
             [
              0,
              "#0d0887"
             ],
             [
              0.1111111111111111,
              "#46039f"
             ],
             [
              0.2222222222222222,
              "#7201a8"
             ],
             [
              0.3333333333333333,
              "#9c179e"
             ],
             [
              0.4444444444444444,
              "#bd3786"
             ],
             [
              0.5555555555555556,
              "#d8576b"
             ],
             [
              0.6666666666666666,
              "#ed7953"
             ],
             [
              0.7777777777777778,
              "#fb9f3a"
             ],
             [
              0.8888888888888888,
              "#fdca26"
             ],
             [
              1,
              "#f0f921"
             ]
            ],
            "type": "histogram2dcontour"
           }
          ],
          "mesh3d": [
           {
            "colorbar": {
             "outlinewidth": 0,
             "ticks": ""
            },
            "type": "mesh3d"
           }
          ],
          "parcoords": [
           {
            "line": {
             "colorbar": {
              "outlinewidth": 0,
              "ticks": ""
             }
            },
            "type": "parcoords"
           }
          ],
          "pie": [
           {
            "automargin": true,
            "type": "pie"
           }
          ],
          "scatter": [
           {
            "fillpattern": {
             "fillmode": "overlay",
             "size": 10,
             "solidity": 0.2
            },
            "type": "scatter"
           }
          ],
          "scatter3d": [
           {
            "line": {
             "colorbar": {
              "outlinewidth": 0,
              "ticks": ""
             }
            },
            "marker": {
             "colorbar": {
              "outlinewidth": 0,
              "ticks": ""
             }
            },
            "type": "scatter3d"
           }
          ],
          "scattercarpet": [
           {
            "marker": {
             "colorbar": {
              "outlinewidth": 0,
              "ticks": ""
             }
            },
            "type": "scattercarpet"
           }
          ],
          "scattergeo": [
           {
            "marker": {
             "colorbar": {
              "outlinewidth": 0,
              "ticks": ""
             }
            },
            "type": "scattergeo"
           }
          ],
          "scattergl": [
           {
            "marker": {
             "colorbar": {
              "outlinewidth": 0,
              "ticks": ""
             }
            },
            "type": "scattergl"
           }
          ],
          "scattermapbox": [
           {
            "marker": {
             "colorbar": {
              "outlinewidth": 0,
              "ticks": ""
             }
            },
            "type": "scattermapbox"
           }
          ],
          "scatterpolar": [
           {
            "marker": {
             "colorbar": {
              "outlinewidth": 0,
              "ticks": ""
             }
            },
            "type": "scatterpolar"
           }
          ],
          "scatterpolargl": [
           {
            "marker": {
             "colorbar": {
              "outlinewidth": 0,
              "ticks": ""
             }
            },
            "type": "scatterpolargl"
           }
          ],
          "scatterternary": [
           {
            "marker": {
             "colorbar": {
              "outlinewidth": 0,
              "ticks": ""
             }
            },
            "type": "scatterternary"
           }
          ],
          "surface": [
           {
            "colorbar": {
             "outlinewidth": 0,
             "ticks": ""
            },
            "colorscale": [
             [
              0,
              "#0d0887"
             ],
             [
              0.1111111111111111,
              "#46039f"
             ],
             [
              0.2222222222222222,
              "#7201a8"
             ],
             [
              0.3333333333333333,
              "#9c179e"
             ],
             [
              0.4444444444444444,
              "#bd3786"
             ],
             [
              0.5555555555555556,
              "#d8576b"
             ],
             [
              0.6666666666666666,
              "#ed7953"
             ],
             [
              0.7777777777777778,
              "#fb9f3a"
             ],
             [
              0.8888888888888888,
              "#fdca26"
             ],
             [
              1,
              "#f0f921"
             ]
            ],
            "type": "surface"
           }
          ],
          "table": [
           {
            "cells": {
             "fill": {
              "color": "#EBF0F8"
             },
             "line": {
              "color": "white"
             }
            },
            "header": {
             "fill": {
              "color": "#C8D4E3"
             },
             "line": {
              "color": "white"
             }
            },
            "type": "table"
           }
          ]
         },
         "layout": {
          "annotationdefaults": {
           "arrowcolor": "#2a3f5f",
           "arrowhead": 0,
           "arrowwidth": 1
          },
          "autotypenumbers": "strict",
          "coloraxis": {
           "colorbar": {
            "outlinewidth": 0,
            "ticks": ""
           }
          },
          "colorscale": {
           "diverging": [
            [
             0,
             "#8e0152"
            ],
            [
             0.1,
             "#c51b7d"
            ],
            [
             0.2,
             "#de77ae"
            ],
            [
             0.3,
             "#f1b6da"
            ],
            [
             0.4,
             "#fde0ef"
            ],
            [
             0.5,
             "#f7f7f7"
            ],
            [
             0.6,
             "#e6f5d0"
            ],
            [
             0.7,
             "#b8e186"
            ],
            [
             0.8,
             "#7fbc41"
            ],
            [
             0.9,
             "#4d9221"
            ],
            [
             1,
             "#276419"
            ]
           ],
           "sequential": [
            [
             0,
             "#0d0887"
            ],
            [
             0.1111111111111111,
             "#46039f"
            ],
            [
             0.2222222222222222,
             "#7201a8"
            ],
            [
             0.3333333333333333,
             "#9c179e"
            ],
            [
             0.4444444444444444,
             "#bd3786"
            ],
            [
             0.5555555555555556,
             "#d8576b"
            ],
            [
             0.6666666666666666,
             "#ed7953"
            ],
            [
             0.7777777777777778,
             "#fb9f3a"
            ],
            [
             0.8888888888888888,
             "#fdca26"
            ],
            [
             1,
             "#f0f921"
            ]
           ],
           "sequentialminus": [
            [
             0,
             "#0d0887"
            ],
            [
             0.1111111111111111,
             "#46039f"
            ],
            [
             0.2222222222222222,
             "#7201a8"
            ],
            [
             0.3333333333333333,
             "#9c179e"
            ],
            [
             0.4444444444444444,
             "#bd3786"
            ],
            [
             0.5555555555555556,
             "#d8576b"
            ],
            [
             0.6666666666666666,
             "#ed7953"
            ],
            [
             0.7777777777777778,
             "#fb9f3a"
            ],
            [
             0.8888888888888888,
             "#fdca26"
            ],
            [
             1,
             "#f0f921"
            ]
           ]
          },
          "colorway": [
           "#636efa",
           "#EF553B",
           "#00cc96",
           "#ab63fa",
           "#FFA15A",
           "#19d3f3",
           "#FF6692",
           "#B6E880",
           "#FF97FF",
           "#FECB52"
          ],
          "font": {
           "color": "#2a3f5f"
          },
          "geo": {
           "bgcolor": "white",
           "lakecolor": "white",
           "landcolor": "#E5ECF6",
           "showlakes": true,
           "showland": true,
           "subunitcolor": "white"
          },
          "hoverlabel": {
           "align": "left"
          },
          "hovermode": "closest",
          "mapbox": {
           "style": "light"
          },
          "paper_bgcolor": "white",
          "plot_bgcolor": "#E5ECF6",
          "polar": {
           "angularaxis": {
            "gridcolor": "white",
            "linecolor": "white",
            "ticks": ""
           },
           "bgcolor": "#E5ECF6",
           "radialaxis": {
            "gridcolor": "white",
            "linecolor": "white",
            "ticks": ""
           }
          },
          "scene": {
           "xaxis": {
            "backgroundcolor": "#E5ECF6",
            "gridcolor": "white",
            "gridwidth": 2,
            "linecolor": "white",
            "showbackground": true,
            "ticks": "",
            "zerolinecolor": "white"
           },
           "yaxis": {
            "backgroundcolor": "#E5ECF6",
            "gridcolor": "white",
            "gridwidth": 2,
            "linecolor": "white",
            "showbackground": true,
            "ticks": "",
            "zerolinecolor": "white"
           },
           "zaxis": {
            "backgroundcolor": "#E5ECF6",
            "gridcolor": "white",
            "gridwidth": 2,
            "linecolor": "white",
            "showbackground": true,
            "ticks": "",
            "zerolinecolor": "white"
           }
          },
          "shapedefaults": {
           "line": {
            "color": "#2a3f5f"
           }
          },
          "ternary": {
           "aaxis": {
            "gridcolor": "white",
            "linecolor": "white",
            "ticks": ""
           },
           "baxis": {
            "gridcolor": "white",
            "linecolor": "white",
            "ticks": ""
           },
           "bgcolor": "#E5ECF6",
           "caxis": {
            "gridcolor": "white",
            "linecolor": "white",
            "ticks": ""
           }
          },
          "title": {
           "x": 0.05
          },
          "xaxis": {
           "automargin": true,
           "gridcolor": "white",
           "linecolor": "white",
           "ticks": "",
           "title": {
            "standoff": 15
           },
           "zerolinecolor": "white",
           "zerolinewidth": 2
          },
          "yaxis": {
           "automargin": true,
           "gridcolor": "white",
           "linecolor": "white",
           "ticks": "",
           "title": {
            "standoff": 15
           },
           "zerolinecolor": "white",
           "zerolinewidth": 2
          }
         }
        },
        "width": 1200
       }
      }
     },
     "metadata": {},
     "output_type": "display_data"
    }
   ],
   "source": [
    "import plotly.graph_objects as go\n",
    "import random\n",
    "import plotly.colors as colors\n",
    "\n",
    "# Here I tried to find best values for monthly and latitude adjustments\n",
    "# But if i set up weather limit close to actual weather, it is impossible \n",
    "# to find corresponding values for mon_adj and lat_adj\n",
    "\n",
    "months_num = list(range(1, 13))\n",
    "fig = go.Figure()\n",
    "plots = 0\n",
    "\n",
    "for _ in range(1000):\n",
    "    max_temp = 30\n",
    "    mon_adj = random.randint(1, max_temp)\n",
    "    lat_adj = random.randint(1, max_temp)\n",
    "    tel_aviv_temps = [generate_temperature(i, 32, mon_adj, lat_adj) for i in months_num]\n",
    "    moscow_temps = [generate_temperature(i, 52, mon_adj, lat_adj) for i in months_num]\n",
    "    \n",
    "    tel_aviv_max = np.max(tel_aviv_temps)\n",
    "    tel_aviv_min = np.min(tel_aviv_temps)\n",
    "    moscow_max = np.max(moscow_temps)\n",
    "    moscow_min = np.min(moscow_temps)\n",
    "    \n",
    "    if tel_aviv_min > -5 and moscow_max > 10 and tel_aviv_max < 35 and moscow_min < 0:\n",
    "        color = colors.sample_colorscale(colors.PLOTLY_SCALES['Rainbow'], random.random())[0]\n",
    "\n",
    "        fig.add_trace(go.Scatter(x=months_num, y=tel_aviv_temps, mode='lines', \n",
    "                                name=f'Tel Aviv (32°) {mon_adj} {lat_adj} {tel_aviv_max:.2f} {tel_aviv_min:.2f}', line=dict(color=color, width=2)))\n",
    "        fig.add_trace(go.Scatter(x=months_num, y=moscow_temps, mode='lines', \n",
    "                             name=f'Moscow (52°) {mon_adj} {lat_adj} {moscow_max:.2f} {moscow_min:.2f}', line=dict(color=color, dash='dash', width=2)))\n",
    "        plots += 1\n",
    "        if plots > 10:\n",
    "            break\n",
    "    \n",
    "fig.update_layout(\n",
    "    legend=dict(xanchor='left', yanchor='top'),\n",
    "    width=1200,\n",
    "    height=600,\n",
    ")\n",
    "\n",
    "fig.show()\n",
    "\n",
    "# Good values\n",
    "# 8 20\n",
    "# 9 22\n",
    "# 10 17\n",
    "# 8 11\n"
   ]
  },
  {
   "cell_type": "code",
   "execution_count": 6,
   "metadata": {},
   "outputs": [
    {
     "name": "stdout",
     "output_type": "stream",
     "text": [
      "Help on Location in module geopy.location object:\n",
      "\n",
      "class Location(builtins.object)\n",
      " |  Location(address, point, raw)\n",
      " |\n",
      " |  Contains a parsed geocoder response. Can be iterated over as\n",
      " |  ``(location<String>, (latitude<float>, longitude<Float))``.\n",
      " |  Or one can access the properties ``address``, ``latitude``,\n",
      " |  ``longitude``, or ``raw``. The last\n",
      " |  is a dictionary of the geocoder's response for this item.\n",
      " |\n",
      " |  Methods defined here:\n",
      " |\n",
      " |  __eq__(self, other)\n",
      " |      Return self==value.\n",
      " |\n",
      " |  __getitem__(self, index)\n",
      " |      Backwards compatibility with geopy<0.98 tuples.\n",
      " |\n",
      " |  __getstate__(self)\n",
      " |      Helper for pickle.\n",
      " |\n",
      " |  __init__(self, address, point, raw)\n",
      " |      Initialize self.  See help(type(self)) for accurate signature.\n",
      " |\n",
      " |  __iter__(self)\n",
      " |\n",
      " |  __len__(self)\n",
      " |\n",
      " |  __ne__(self, other)\n",
      " |      Return self!=value.\n",
      " |\n",
      " |  __repr__(self)\n",
      " |      Return repr(self).\n",
      " |\n",
      " |  __setstate__(self, state)\n",
      " |\n",
      " |  __str__(self)\n",
      " |      Return str(self).\n",
      " |\n",
      " |  ----------------------------------------------------------------------\n",
      " |  Readonly properties defined here:\n",
      " |\n",
      " |  address\n",
      " |      Location as a formatted string returned by the geocoder or constructed\n",
      " |      by geopy, depending on the service.\n",
      " |\n",
      " |      :rtype: str\n",
      " |\n",
      " |  altitude\n",
      " |      Location's altitude.\n",
      " |\n",
      " |      .. note::\n",
      " |          Geocoding services usually don't consider altitude neither in\n",
      " |          requests nor in responses, so almost always the value of this\n",
      " |          property would be zero.\n",
      " |\n",
      " |      :rtype: float\n",
      " |\n",
      " |  latitude\n",
      " |      Location's latitude.\n",
      " |\n",
      " |      :rtype: float\n",
      " |\n",
      " |  longitude\n",
      " |      Location's longitude.\n",
      " |\n",
      " |      :rtype: float\n",
      " |\n",
      " |  point\n",
      " |      :class:`geopy.point.Point` instance representing the location's\n",
      " |      latitude, longitude, and altitude.\n",
      " |\n",
      " |      :rtype: :class:`geopy.point.Point`\n",
      " |\n",
      " |  raw\n",
      " |      Location's raw, unparsed geocoder response. For details on this,\n",
      " |      consult the service's documentation.\n",
      " |\n",
      " |      :rtype: dict\n",
      " |\n",
      " |  ----------------------------------------------------------------------\n",
      " |  Data and other attributes defined here:\n",
      " |\n",
      " |  __hash__ = None\n",
      "\n"
     ]
    }
   ],
   "source": [
    "help(capitals_coord[0])"
   ]
  },
  {
   "cell_type": "code",
   "execution_count": 7,
   "metadata": {},
   "outputs": [
    {
     "data": {
      "text/plain": [
       "{'place_id': 374285331,\n",
       " 'licence': 'Data © OpenStreetMap contributors, ODbL 1.0. http://osm.org/copyright',\n",
       " 'osm_type': 'relation',\n",
       " 'osm_id': 1382494,\n",
       " 'lat': '32.0852997',\n",
       " 'lon': '34.7818064',\n",
       " 'class': 'boundary',\n",
       " 'type': 'administrative',\n",
       " 'place_rank': 16,\n",
       " 'importance': 0.6499881947160822,\n",
       " 'addresstype': 'city',\n",
       " 'name': 'Tel-Aviv',\n",
       " 'display_name': 'Tel-Aviv, Tel Aviv Subdistrict, Tel-Aviv District, Israel',\n",
       " 'boundingbox': ['32.0293437', '32.1469766', '34.7391310', '34.8522617']}"
      ]
     },
     "execution_count": 7,
     "metadata": {},
     "output_type": "execute_result"
    }
   ],
   "source": [
    "capitals_coord[0].raw\n"
   ]
  },
  {
   "cell_type": "code",
   "execution_count": 8,
   "metadata": {},
   "outputs": [
    {
     "data": {
      "text/html": [
       "<div>\n",
       "<style scoped>\n",
       "    .dataframe tbody tr th:only-of-type {\n",
       "        vertical-align: middle;\n",
       "    }\n",
       "\n",
       "    .dataframe tbody tr th {\n",
       "        vertical-align: top;\n",
       "    }\n",
       "\n",
       "    .dataframe thead th {\n",
       "        text-align: right;\n",
       "    }\n",
       "</style>\n",
       "<table border=\"1\" class=\"dataframe\">\n",
       "  <thead>\n",
       "    <tr style=\"text-align: right;\">\n",
       "      <th></th>\n",
       "      <th>month</th>\n",
       "      <th>mon_num</th>\n",
       "    </tr>\n",
       "  </thead>\n",
       "  <tbody>\n",
       "    <tr>\n",
       "      <th>0</th>\n",
       "      <td>January</td>\n",
       "      <td>1</td>\n",
       "    </tr>\n",
       "    <tr>\n",
       "      <th>1</th>\n",
       "      <td>February</td>\n",
       "      <td>2</td>\n",
       "    </tr>\n",
       "    <tr>\n",
       "      <th>2</th>\n",
       "      <td>March</td>\n",
       "      <td>3</td>\n",
       "    </tr>\n",
       "    <tr>\n",
       "      <th>3</th>\n",
       "      <td>April</td>\n",
       "      <td>4</td>\n",
       "    </tr>\n",
       "    <tr>\n",
       "      <th>4</th>\n",
       "      <td>May</td>\n",
       "      <td>5</td>\n",
       "    </tr>\n",
       "    <tr>\n",
       "      <th>5</th>\n",
       "      <td>June</td>\n",
       "      <td>6</td>\n",
       "    </tr>\n",
       "    <tr>\n",
       "      <th>6</th>\n",
       "      <td>July</td>\n",
       "      <td>7</td>\n",
       "    </tr>\n",
       "    <tr>\n",
       "      <th>7</th>\n",
       "      <td>August</td>\n",
       "      <td>8</td>\n",
       "    </tr>\n",
       "    <tr>\n",
       "      <th>8</th>\n",
       "      <td>September</td>\n",
       "      <td>9</td>\n",
       "    </tr>\n",
       "    <tr>\n",
       "      <th>9</th>\n",
       "      <td>October</td>\n",
       "      <td>10</td>\n",
       "    </tr>\n",
       "    <tr>\n",
       "      <th>10</th>\n",
       "      <td>November</td>\n",
       "      <td>11</td>\n",
       "    </tr>\n",
       "    <tr>\n",
       "      <th>11</th>\n",
       "      <td>December</td>\n",
       "      <td>12</td>\n",
       "    </tr>\n",
       "  </tbody>\n",
       "</table>\n",
       "</div>"
      ],
      "text/plain": [
       "        month  mon_num\n",
       "0     January        1\n",
       "1    February        2\n",
       "2       March        3\n",
       "3       April        4\n",
       "4         May        5\n",
       "5        June        6\n",
       "6        July        7\n",
       "7      August        8\n",
       "8   September        9\n",
       "9     October       10\n",
       "10   November       11\n",
       "11   December       12"
      ]
     },
     "execution_count": 8,
     "metadata": {},
     "output_type": "execute_result"
    }
   ],
   "source": [
    "months_df = pd.DataFrame({'month': months, 'mon_num': range(1, 13)})\n",
    "months_df"
   ]
  },
  {
   "cell_type": "code",
   "execution_count": 9,
   "metadata": {},
   "outputs": [
    {
     "data": {
      "text/html": [
       "<div>\n",
       "<style scoped>\n",
       "    .dataframe tbody tr th:only-of-type {\n",
       "        vertical-align: middle;\n",
       "    }\n",
       "\n",
       "    .dataframe tbody tr th {\n",
       "        vertical-align: top;\n",
       "    }\n",
       "\n",
       "    .dataframe thead th {\n",
       "        text-align: right;\n",
       "    }\n",
       "</style>\n",
       "<table border=\"1\" class=\"dataframe\">\n",
       "  <thead>\n",
       "    <tr style=\"text-align: right;\">\n",
       "      <th></th>\n",
       "      <th>city</th>\n",
       "      <th>latitude</th>\n",
       "      <th>longitude</th>\n",
       "      <th>country</th>\n",
       "    </tr>\n",
       "  </thead>\n",
       "  <tbody>\n",
       "    <tr>\n",
       "      <th>0</th>\n",
       "      <td>Tel-Aviv</td>\n",
       "      <td>32.085300</td>\n",
       "      <td>34.781806</td>\n",
       "      <td>Israel</td>\n",
       "    </tr>\n",
       "    <tr>\n",
       "      <th>1</th>\n",
       "      <td>London</td>\n",
       "      <td>51.489334</td>\n",
       "      <td>-0.144055</td>\n",
       "      <td>United Kingdom</td>\n",
       "    </tr>\n",
       "    <tr>\n",
       "      <th>2</th>\n",
       "      <td>Paris</td>\n",
       "      <td>48.858890</td>\n",
       "      <td>2.320041</td>\n",
       "      <td>France</td>\n",
       "    </tr>\n",
       "    <tr>\n",
       "      <th>3</th>\n",
       "      <td>Berlin</td>\n",
       "      <td>52.510885</td>\n",
       "      <td>13.398937</td>\n",
       "      <td>Germany</td>\n",
       "    </tr>\n",
       "    <tr>\n",
       "      <th>4</th>\n",
       "      <td>Tokyo</td>\n",
       "      <td>35.682194</td>\n",
       "      <td>139.762221</td>\n",
       "      <td>Japan</td>\n",
       "    </tr>\n",
       "    <tr>\n",
       "      <th>5</th>\n",
       "      <td>Beijing</td>\n",
       "      <td>40.190632</td>\n",
       "      <td>116.412144</td>\n",
       "      <td>China</td>\n",
       "    </tr>\n",
       "    <tr>\n",
       "      <th>6</th>\n",
       "      <td>Moscow</td>\n",
       "      <td>55.750541</td>\n",
       "      <td>37.617478</td>\n",
       "      <td>Russia</td>\n",
       "    </tr>\n",
       "    <tr>\n",
       "      <th>7</th>\n",
       "      <td>Washington</td>\n",
       "      <td>47.286835</td>\n",
       "      <td>-120.212613</td>\n",
       "      <td>United States</td>\n",
       "    </tr>\n",
       "    <tr>\n",
       "      <th>8</th>\n",
       "      <td>Ottawa</td>\n",
       "      <td>45.420878</td>\n",
       "      <td>-75.690111</td>\n",
       "      <td>Canada</td>\n",
       "    </tr>\n",
       "  </tbody>\n",
       "</table>\n",
       "</div>"
      ],
      "text/plain": [
       "         city   latitude   longitude          country\n",
       "0    Tel-Aviv  32.085300   34.781806           Israel\n",
       "1      London  51.489334   -0.144055   United Kingdom\n",
       "2       Paris  48.858890    2.320041           France\n",
       "3      Berlin  52.510885   13.398937          Germany\n",
       "4       Tokyo  35.682194  139.762221            Japan\n",
       "5     Beijing  40.190632  116.412144            China\n",
       "6      Moscow  55.750541   37.617478           Russia\n",
       "7  Washington  47.286835 -120.212613    United States\n",
       "8      Ottawa  45.420878  -75.690111           Canada"
      ]
     },
     "execution_count": 9,
     "metadata": {},
     "output_type": "execute_result"
    }
   ],
   "source": [
    "city_df = pd.DataFrame({\n",
    "    'city': [city.raw['name'] for city in capitals_coord],\n",
    "    'latitude': [city.latitude for city in capitals_coord],\n",
    "    'longitude': [city.longitude for city in capitals_coord],\n",
    "    'country': [city.raw['display_name'].split(',')[-1] for city in capitals_coord]\n",
    "})\n",
    "\n",
    "city_df\n",
    "\n"
   ]
  },
  {
   "cell_type": "code",
   "execution_count": 10,
   "metadata": {},
   "outputs": [
    {
     "data": {
      "text/html": [
       "<div>\n",
       "<style scoped>\n",
       "    .dataframe tbody tr th:only-of-type {\n",
       "        vertical-align: middle;\n",
       "    }\n",
       "\n",
       "    .dataframe tbody tr th {\n",
       "        vertical-align: top;\n",
       "    }\n",
       "\n",
       "    .dataframe thead th {\n",
       "        text-align: right;\n",
       "    }\n",
       "</style>\n",
       "<table border=\"1\" class=\"dataframe\">\n",
       "  <thead>\n",
       "    <tr style=\"text-align: right;\">\n",
       "      <th></th>\n",
       "      <th>month</th>\n",
       "      <th>mon_num</th>\n",
       "      <th>city</th>\n",
       "      <th>latitude</th>\n",
       "      <th>longitude</th>\n",
       "      <th>country</th>\n",
       "      <th>temperature</th>\n",
       "    </tr>\n",
       "  </thead>\n",
       "  <tbody>\n",
       "    <tr>\n",
       "      <th>0</th>\n",
       "      <td>January</td>\n",
       "      <td>1</td>\n",
       "      <td>Tel-Aviv</td>\n",
       "      <td>32.085300</td>\n",
       "      <td>34.781806</td>\n",
       "      <td>Israel</td>\n",
       "      <td>-4.077013</td>\n",
       "    </tr>\n",
       "    <tr>\n",
       "      <th>1</th>\n",
       "      <td>January</td>\n",
       "      <td>1</td>\n",
       "      <td>London</td>\n",
       "      <td>51.489334</td>\n",
       "      <td>-0.144055</td>\n",
       "      <td>United Kingdom</td>\n",
       "      <td>-11.760394</td>\n",
       "    </tr>\n",
       "    <tr>\n",
       "      <th>2</th>\n",
       "      <td>January</td>\n",
       "      <td>1</td>\n",
       "      <td>Paris</td>\n",
       "      <td>48.858890</td>\n",
       "      <td>2.320041</td>\n",
       "      <td>France</td>\n",
       "      <td>-8.360604</td>\n",
       "    </tr>\n",
       "    <tr>\n",
       "      <th>3</th>\n",
       "      <td>January</td>\n",
       "      <td>1</td>\n",
       "      <td>Berlin</td>\n",
       "      <td>52.510885</td>\n",
       "      <td>13.398937</td>\n",
       "      <td>Germany</td>\n",
       "      <td>-11.898705</td>\n",
       "    </tr>\n",
       "    <tr>\n",
       "      <th>4</th>\n",
       "      <td>January</td>\n",
       "      <td>1</td>\n",
       "      <td>Tokyo</td>\n",
       "      <td>35.682194</td>\n",
       "      <td>139.762221</td>\n",
       "      <td>Japan</td>\n",
       "      <td>-5.856339</td>\n",
       "    </tr>\n",
       "    <tr>\n",
       "      <th>...</th>\n",
       "      <td>...</td>\n",
       "      <td>...</td>\n",
       "      <td>...</td>\n",
       "      <td>...</td>\n",
       "      <td>...</td>\n",
       "      <td>...</td>\n",
       "      <td>...</td>\n",
       "    </tr>\n",
       "    <tr>\n",
       "      <th>103</th>\n",
       "      <td>December</td>\n",
       "      <td>12</td>\n",
       "      <td>Tokyo</td>\n",
       "      <td>35.682194</td>\n",
       "      <td>139.762221</td>\n",
       "      <td>Japan</td>\n",
       "      <td>-4.815157</td>\n",
       "    </tr>\n",
       "    <tr>\n",
       "      <th>104</th>\n",
       "      <td>December</td>\n",
       "      <td>12</td>\n",
       "      <td>Beijing</td>\n",
       "      <td>40.190632</td>\n",
       "      <td>116.412144</td>\n",
       "      <td>China</td>\n",
       "      <td>-6.547273</td>\n",
       "    </tr>\n",
       "    <tr>\n",
       "      <th>105</th>\n",
       "      <td>December</td>\n",
       "      <td>12</td>\n",
       "      <td>Moscow</td>\n",
       "      <td>55.750541</td>\n",
       "      <td>37.617478</td>\n",
       "      <td>Russia</td>\n",
       "      <td>-10.274029</td>\n",
       "    </tr>\n",
       "    <tr>\n",
       "      <th>106</th>\n",
       "      <td>December</td>\n",
       "      <td>12</td>\n",
       "      <td>Washington</td>\n",
       "      <td>47.286835</td>\n",
       "      <td>-120.212613</td>\n",
       "      <td>United States</td>\n",
       "      <td>-6.410817</td>\n",
       "    </tr>\n",
       "    <tr>\n",
       "      <th>107</th>\n",
       "      <td>December</td>\n",
       "      <td>12</td>\n",
       "      <td>Ottawa</td>\n",
       "      <td>45.420878</td>\n",
       "      <td>-75.690111</td>\n",
       "      <td>Canada</td>\n",
       "      <td>-6.968370</td>\n",
       "    </tr>\n",
       "  </tbody>\n",
       "</table>\n",
       "<p>108 rows × 7 columns</p>\n",
       "</div>"
      ],
      "text/plain": [
       "        month  mon_num        city   latitude   longitude          country  \\\n",
       "0     January        1    Tel-Aviv  32.085300   34.781806           Israel   \n",
       "1     January        1      London  51.489334   -0.144055   United Kingdom   \n",
       "2     January        1       Paris  48.858890    2.320041           France   \n",
       "3     January        1      Berlin  52.510885   13.398937          Germany   \n",
       "4     January        1       Tokyo  35.682194  139.762221            Japan   \n",
       "..        ...      ...         ...        ...         ...              ...   \n",
       "103  December       12       Tokyo  35.682194  139.762221            Japan   \n",
       "104  December       12     Beijing  40.190632  116.412144            China   \n",
       "105  December       12      Moscow  55.750541   37.617478           Russia   \n",
       "106  December       12  Washington  47.286835 -120.212613    United States   \n",
       "107  December       12      Ottawa  45.420878  -75.690111           Canada   \n",
       "\n",
       "     temperature  \n",
       "0      -4.077013  \n",
       "1     -11.760394  \n",
       "2      -8.360604  \n",
       "3     -11.898705  \n",
       "4      -5.856339  \n",
       "..           ...  \n",
       "103    -4.815157  \n",
       "104    -6.547273  \n",
       "105   -10.274029  \n",
       "106    -6.410817  \n",
       "107    -6.968370  \n",
       "\n",
       "[108 rows x 7 columns]"
      ]
     },
     "execution_count": 10,
     "metadata": {},
     "output_type": "execute_result"
    }
   ],
   "source": [
    "city_temp = pd.merge(months_df, city_df, how='cross')\n",
    "\n",
    "city_temp['temperature'] = city_temp.apply(lambda x: generate_temperature(x['mon_num'], x['latitude']), axis=1)\n",
    "\n",
    "city_temp"
   ]
  },
  {
   "cell_type": "code",
   "execution_count": 11,
   "metadata": {},
   "outputs": [
    {
     "data": {
      "text/html": [
       "<div>\n",
       "<style scoped>\n",
       "    .dataframe tbody tr th:only-of-type {\n",
       "        vertical-align: middle;\n",
       "    }\n",
       "\n",
       "    .dataframe tbody tr th {\n",
       "        vertical-align: top;\n",
       "    }\n",
       "\n",
       "    .dataframe thead th {\n",
       "        text-align: right;\n",
       "    }\n",
       "</style>\n",
       "<table border=\"1\" class=\"dataframe\">\n",
       "  <thead>\n",
       "    <tr style=\"text-align: right;\">\n",
       "      <th></th>\n",
       "      <th>country</th>\n",
       "      <th>latitude</th>\n",
       "      <th>longitude</th>\n",
       "      <th>April</th>\n",
       "      <th>August</th>\n",
       "      <th>December</th>\n",
       "      <th>February</th>\n",
       "      <th>January</th>\n",
       "      <th>July</th>\n",
       "      <th>June</th>\n",
       "      <th>March</th>\n",
       "      <th>May</th>\n",
       "      <th>November</th>\n",
       "      <th>October</th>\n",
       "      <th>September</th>\n",
       "    </tr>\n",
       "    <tr>\n",
       "      <th>city</th>\n",
       "      <th></th>\n",
       "      <th></th>\n",
       "      <th></th>\n",
       "      <th></th>\n",
       "      <th></th>\n",
       "      <th></th>\n",
       "      <th></th>\n",
       "      <th></th>\n",
       "      <th></th>\n",
       "      <th></th>\n",
       "      <th></th>\n",
       "      <th></th>\n",
       "      <th></th>\n",
       "      <th></th>\n",
       "      <th></th>\n",
       "    </tr>\n",
       "  </thead>\n",
       "  <tbody>\n",
       "    <tr>\n",
       "      <th>Beijing</th>\n",
       "      <td>China</td>\n",
       "      <td>40.190632</td>\n",
       "      <td>116.412144</td>\n",
       "      <td>1.666597</td>\n",
       "      <td>9.256905</td>\n",
       "      <td>-6.547273</td>\n",
       "      <td>-7.038749</td>\n",
       "      <td>-4.989609</td>\n",
       "      <td>9.078200</td>\n",
       "      <td>8.501540</td>\n",
       "      <td>-2.205724</td>\n",
       "      <td>6.596687</td>\n",
       "      <td>-1.642912</td>\n",
       "      <td>2.929839</td>\n",
       "      <td>5.197379</td>\n",
       "    </tr>\n",
       "    <tr>\n",
       "      <th>Berlin</th>\n",
       "      <td>Germany</td>\n",
       "      <td>52.510885</td>\n",
       "      <td>13.398937</td>\n",
       "      <td>-2.451366</td>\n",
       "      <td>3.193806</td>\n",
       "      <td>-8.482733</td>\n",
       "      <td>-9.588800</td>\n",
       "      <td>-11.898705</td>\n",
       "      <td>5.136781</td>\n",
       "      <td>2.318242</td>\n",
       "      <td>-7.756808</td>\n",
       "      <td>2.914297</td>\n",
       "      <td>-7.746957</td>\n",
       "      <td>-4.257373</td>\n",
       "      <td>1.301042</td>\n",
       "    </tr>\n",
       "    <tr>\n",
       "      <th>London</th>\n",
       "      <td>United Kingdom</td>\n",
       "      <td>51.489334</td>\n",
       "      <td>-0.144055</td>\n",
       "      <td>-3.278695</td>\n",
       "      <td>2.780645</td>\n",
       "      <td>-11.352898</td>\n",
       "      <td>-8.924196</td>\n",
       "      <td>-11.760394</td>\n",
       "      <td>7.045769</td>\n",
       "      <td>2.845188</td>\n",
       "      <td>-7.376777</td>\n",
       "      <td>0.024794</td>\n",
       "      <td>-7.923894</td>\n",
       "      <td>-2.402406</td>\n",
       "      <td>3.166746</td>\n",
       "    </tr>\n",
       "    <tr>\n",
       "      <th>Moscow</th>\n",
       "      <td>Russia</td>\n",
       "      <td>55.750541</td>\n",
       "      <td>37.617478</td>\n",
       "      <td>-2.401818</td>\n",
       "      <td>1.877942</td>\n",
       "      <td>-10.274029</td>\n",
       "      <td>-12.390120</td>\n",
       "      <td>-10.071659</td>\n",
       "      <td>4.691971</td>\n",
       "      <td>1.864708</td>\n",
       "      <td>-7.703744</td>\n",
       "      <td>1.309235</td>\n",
       "      <td>-8.969021</td>\n",
       "      <td>-5.717417</td>\n",
       "      <td>-0.622184</td>\n",
       "    </tr>\n",
       "    <tr>\n",
       "      <th>Ottawa</th>\n",
       "      <td>Canada</td>\n",
       "      <td>45.420878</td>\n",
       "      <td>-75.690111</td>\n",
       "      <td>-2.089488</td>\n",
       "      <td>6.815971</td>\n",
       "      <td>-6.968370</td>\n",
       "      <td>-8.751134</td>\n",
       "      <td>-8.860269</td>\n",
       "      <td>6.228271</td>\n",
       "      <td>7.730078</td>\n",
       "      <td>-4.032857</td>\n",
       "      <td>5.135511</td>\n",
       "      <td>-2.833881</td>\n",
       "      <td>0.001597</td>\n",
       "      <td>2.091613</td>\n",
       "    </tr>\n",
       "    <tr>\n",
       "      <th>Paris</th>\n",
       "      <td>France</td>\n",
       "      <td>48.858890</td>\n",
       "      <td>2.320041</td>\n",
       "      <td>-2.952690</td>\n",
       "      <td>6.077991</td>\n",
       "      <td>-8.736168</td>\n",
       "      <td>-8.237314</td>\n",
       "      <td>-8.360604</td>\n",
       "      <td>7.964443</td>\n",
       "      <td>5.979260</td>\n",
       "      <td>-5.494996</td>\n",
       "      <td>1.535585</td>\n",
       "      <td>-6.687701</td>\n",
       "      <td>-2.685679</td>\n",
       "      <td>2.196234</td>\n",
       "    </tr>\n",
       "    <tr>\n",
       "      <th>Tel-Aviv</th>\n",
       "      <td>Israel</td>\n",
       "      <td>32.085300</td>\n",
       "      <td>34.781806</td>\n",
       "      <td>4.655802</td>\n",
       "      <td>12.374512</td>\n",
       "      <td>-0.282418</td>\n",
       "      <td>-3.098943</td>\n",
       "      <td>-4.077013</td>\n",
       "      <td>11.457310</td>\n",
       "      <td>12.486066</td>\n",
       "      <td>2.451018</td>\n",
       "      <td>7.622945</td>\n",
       "      <td>-0.806612</td>\n",
       "      <td>5.503775</td>\n",
       "      <td>10.220761</td>\n",
       "    </tr>\n",
       "    <tr>\n",
       "      <th>Tokyo</th>\n",
       "      <td>Japan</td>\n",
       "      <td>35.682194</td>\n",
       "      <td>139.762221</td>\n",
       "      <td>2.894661</td>\n",
       "      <td>10.036215</td>\n",
       "      <td>-4.815157</td>\n",
       "      <td>-2.823524</td>\n",
       "      <td>-5.856339</td>\n",
       "      <td>13.401568</td>\n",
       "      <td>12.151656</td>\n",
       "      <td>-1.179100</td>\n",
       "      <td>8.442621</td>\n",
       "      <td>-0.153326</td>\n",
       "      <td>2.859068</td>\n",
       "      <td>7.926031</td>\n",
       "    </tr>\n",
       "    <tr>\n",
       "      <th>Washington</th>\n",
       "      <td>United States</td>\n",
       "      <td>47.286835</td>\n",
       "      <td>-120.212613</td>\n",
       "      <td>-2.020401</td>\n",
       "      <td>4.622085</td>\n",
       "      <td>-6.410817</td>\n",
       "      <td>-9.626633</td>\n",
       "      <td>-9.964925</td>\n",
       "      <td>8.125087</td>\n",
       "      <td>7.582674</td>\n",
       "      <td>-5.590705</td>\n",
       "      <td>1.723661</td>\n",
       "      <td>-5.513428</td>\n",
       "      <td>0.868050</td>\n",
       "      <td>4.966976</td>\n",
       "    </tr>\n",
       "  </tbody>\n",
       "</table>\n",
       "</div>"
      ],
      "text/plain": [
       "                    country   latitude   longitude     April     August  \\\n",
       "city                                                                      \n",
       "Beijing               China  40.190632  116.412144  1.666597   9.256905   \n",
       "Berlin              Germany  52.510885   13.398937 -2.451366   3.193806   \n",
       "London       United Kingdom  51.489334   -0.144055 -3.278695   2.780645   \n",
       "Moscow               Russia  55.750541   37.617478 -2.401818   1.877942   \n",
       "Ottawa               Canada  45.420878  -75.690111 -2.089488   6.815971   \n",
       "Paris                France  48.858890    2.320041 -2.952690   6.077991   \n",
       "Tel-Aviv             Israel  32.085300   34.781806  4.655802  12.374512   \n",
       "Tokyo                 Japan  35.682194  139.762221  2.894661  10.036215   \n",
       "Washington    United States  47.286835 -120.212613 -2.020401   4.622085   \n",
       "\n",
       "             December   February    January       July       June     March  \\\n",
       "city                                                                          \n",
       "Beijing     -6.547273  -7.038749  -4.989609   9.078200   8.501540 -2.205724   \n",
       "Berlin      -8.482733  -9.588800 -11.898705   5.136781   2.318242 -7.756808   \n",
       "London     -11.352898  -8.924196 -11.760394   7.045769   2.845188 -7.376777   \n",
       "Moscow     -10.274029 -12.390120 -10.071659   4.691971   1.864708 -7.703744   \n",
       "Ottawa      -6.968370  -8.751134  -8.860269   6.228271   7.730078 -4.032857   \n",
       "Paris       -8.736168  -8.237314  -8.360604   7.964443   5.979260 -5.494996   \n",
       "Tel-Aviv    -0.282418  -3.098943  -4.077013  11.457310  12.486066  2.451018   \n",
       "Tokyo       -4.815157  -2.823524  -5.856339  13.401568  12.151656 -1.179100   \n",
       "Washington  -6.410817  -9.626633  -9.964925   8.125087   7.582674 -5.590705   \n",
       "\n",
       "                 May  November   October  September  \n",
       "city                                                 \n",
       "Beijing     6.596687 -1.642912  2.929839   5.197379  \n",
       "Berlin      2.914297 -7.746957 -4.257373   1.301042  \n",
       "London      0.024794 -7.923894 -2.402406   3.166746  \n",
       "Moscow      1.309235 -8.969021 -5.717417  -0.622184  \n",
       "Ottawa      5.135511 -2.833881  0.001597   2.091613  \n",
       "Paris       1.535585 -6.687701 -2.685679   2.196234  \n",
       "Tel-Aviv    7.622945 -0.806612  5.503775  10.220761  \n",
       "Tokyo       8.442621 -0.153326  2.859068   7.926031  \n",
       "Washington  1.723661 -5.513428  0.868050   4.966976  "
      ]
     },
     "execution_count": 11,
     "metadata": {},
     "output_type": "execute_result"
    }
   ],
   "source": [
    "city_mon_temp = pd.pivot_table(city_temp, values='temperature', index=['city', 'country', 'latitude', 'longitude'], columns='month', aggfunc='first')\n",
    "\n",
    "city_mon_temp = city_mon_temp.reset_index()\n",
    "city_mon_temp = city_mon_temp.set_index('city')\n",
    "city_mon_temp.columns = city_mon_temp.columns.values\n",
    "\n",
    "city_mon_temp"
   ]
  },
  {
   "cell_type": "markdown",
   "metadata": {},
   "source": [
    "### 2. Data Analysis:\n",
    "\n",
    "Hint 1: Calculate the annual average temperature using DataFrame.mean(axis). \\\n",
    "Hint 2: Find the city with the highest and lowest average temperature using idxmax() and idxmin() methods.\n",
    "\n",
    "Calculate the annual average temperature for each city.\n",
    "\n",
    "Identify the city with the highest and lowest average temperature for the year."
   ]
  },
  {
   "cell_type": "code",
   "execution_count": 12,
   "metadata": {},
   "outputs": [
    {
     "data": {
      "text/html": [
       "<div>\n",
       "<style scoped>\n",
       "    .dataframe tbody tr th:only-of-type {\n",
       "        vertical-align: middle;\n",
       "    }\n",
       "\n",
       "    .dataframe tbody tr th {\n",
       "        vertical-align: top;\n",
       "    }\n",
       "\n",
       "    .dataframe thead th {\n",
       "        text-align: right;\n",
       "    }\n",
       "</style>\n",
       "<table border=\"1\" class=\"dataframe\">\n",
       "  <thead>\n",
       "    <tr style=\"text-align: right;\">\n",
       "      <th></th>\n",
       "      <th>country</th>\n",
       "      <th>latitude</th>\n",
       "      <th>longitude</th>\n",
       "      <th>April</th>\n",
       "      <th>August</th>\n",
       "      <th>December</th>\n",
       "      <th>February</th>\n",
       "      <th>January</th>\n",
       "      <th>July</th>\n",
       "      <th>June</th>\n",
       "      <th>March</th>\n",
       "      <th>May</th>\n",
       "      <th>November</th>\n",
       "      <th>October</th>\n",
       "      <th>September</th>\n",
       "      <th>avg_temp</th>\n",
       "    </tr>\n",
       "    <tr>\n",
       "      <th>city</th>\n",
       "      <th></th>\n",
       "      <th></th>\n",
       "      <th></th>\n",
       "      <th></th>\n",
       "      <th></th>\n",
       "      <th></th>\n",
       "      <th></th>\n",
       "      <th></th>\n",
       "      <th></th>\n",
       "      <th></th>\n",
       "      <th></th>\n",
       "      <th></th>\n",
       "      <th></th>\n",
       "      <th></th>\n",
       "      <th></th>\n",
       "      <th></th>\n",
       "    </tr>\n",
       "  </thead>\n",
       "  <tbody>\n",
       "    <tr>\n",
       "      <th>Beijing</th>\n",
       "      <td>China</td>\n",
       "      <td>40.190632</td>\n",
       "      <td>116.412144</td>\n",
       "      <td>1.666597</td>\n",
       "      <td>9.256905</td>\n",
       "      <td>-6.547273</td>\n",
       "      <td>-7.038749</td>\n",
       "      <td>-4.989609</td>\n",
       "      <td>9.078200</td>\n",
       "      <td>8.501540</td>\n",
       "      <td>-2.205724</td>\n",
       "      <td>6.596687</td>\n",
       "      <td>-1.642912</td>\n",
       "      <td>2.929839</td>\n",
       "      <td>5.197379</td>\n",
       "      <td>1.733573</td>\n",
       "    </tr>\n",
       "    <tr>\n",
       "      <th>Berlin</th>\n",
       "      <td>Germany</td>\n",
       "      <td>52.510885</td>\n",
       "      <td>13.398937</td>\n",
       "      <td>-2.451366</td>\n",
       "      <td>3.193806</td>\n",
       "      <td>-8.482733</td>\n",
       "      <td>-9.588800</td>\n",
       "      <td>-11.898705</td>\n",
       "      <td>5.136781</td>\n",
       "      <td>2.318242</td>\n",
       "      <td>-7.756808</td>\n",
       "      <td>2.914297</td>\n",
       "      <td>-7.746957</td>\n",
       "      <td>-4.257373</td>\n",
       "      <td>1.301042</td>\n",
       "      <td>-3.109881</td>\n",
       "    </tr>\n",
       "    <tr>\n",
       "      <th>London</th>\n",
       "      <td>United Kingdom</td>\n",
       "      <td>51.489334</td>\n",
       "      <td>-0.144055</td>\n",
       "      <td>-3.278695</td>\n",
       "      <td>2.780645</td>\n",
       "      <td>-11.352898</td>\n",
       "      <td>-8.924196</td>\n",
       "      <td>-11.760394</td>\n",
       "      <td>7.045769</td>\n",
       "      <td>2.845188</td>\n",
       "      <td>-7.376777</td>\n",
       "      <td>0.024794</td>\n",
       "      <td>-7.923894</td>\n",
       "      <td>-2.402406</td>\n",
       "      <td>3.166746</td>\n",
       "      <td>-3.096343</td>\n",
       "    </tr>\n",
       "    <tr>\n",
       "      <th>Moscow</th>\n",
       "      <td>Russia</td>\n",
       "      <td>55.750541</td>\n",
       "      <td>37.617478</td>\n",
       "      <td>-2.401818</td>\n",
       "      <td>1.877942</td>\n",
       "      <td>-10.274029</td>\n",
       "      <td>-12.390120</td>\n",
       "      <td>-10.071659</td>\n",
       "      <td>4.691971</td>\n",
       "      <td>1.864708</td>\n",
       "      <td>-7.703744</td>\n",
       "      <td>1.309235</td>\n",
       "      <td>-8.969021</td>\n",
       "      <td>-5.717417</td>\n",
       "      <td>-0.622184</td>\n",
       "      <td>-4.033845</td>\n",
       "    </tr>\n",
       "    <tr>\n",
       "      <th>Ottawa</th>\n",
       "      <td>Canada</td>\n",
       "      <td>45.420878</td>\n",
       "      <td>-75.690111</td>\n",
       "      <td>-2.089488</td>\n",
       "      <td>6.815971</td>\n",
       "      <td>-6.968370</td>\n",
       "      <td>-8.751134</td>\n",
       "      <td>-8.860269</td>\n",
       "      <td>6.228271</td>\n",
       "      <td>7.730078</td>\n",
       "      <td>-4.032857</td>\n",
       "      <td>5.135511</td>\n",
       "      <td>-2.833881</td>\n",
       "      <td>0.001597</td>\n",
       "      <td>2.091613</td>\n",
       "      <td>-0.461080</td>\n",
       "    </tr>\n",
       "    <tr>\n",
       "      <th>Paris</th>\n",
       "      <td>France</td>\n",
       "      <td>48.858890</td>\n",
       "      <td>2.320041</td>\n",
       "      <td>-2.952690</td>\n",
       "      <td>6.077991</td>\n",
       "      <td>-8.736168</td>\n",
       "      <td>-8.237314</td>\n",
       "      <td>-8.360604</td>\n",
       "      <td>7.964443</td>\n",
       "      <td>5.979260</td>\n",
       "      <td>-5.494996</td>\n",
       "      <td>1.535585</td>\n",
       "      <td>-6.687701</td>\n",
       "      <td>-2.685679</td>\n",
       "      <td>2.196234</td>\n",
       "      <td>-1.616803</td>\n",
       "    </tr>\n",
       "    <tr>\n",
       "      <th>Tel-Aviv</th>\n",
       "      <td>Israel</td>\n",
       "      <td>32.085300</td>\n",
       "      <td>34.781806</td>\n",
       "      <td>4.655802</td>\n",
       "      <td>12.374512</td>\n",
       "      <td>-0.282418</td>\n",
       "      <td>-3.098943</td>\n",
       "      <td>-4.077013</td>\n",
       "      <td>11.457310</td>\n",
       "      <td>12.486066</td>\n",
       "      <td>2.451018</td>\n",
       "      <td>7.622945</td>\n",
       "      <td>-0.806612</td>\n",
       "      <td>5.503775</td>\n",
       "      <td>10.220761</td>\n",
       "      <td>4.875600</td>\n",
       "    </tr>\n",
       "    <tr>\n",
       "      <th>Tokyo</th>\n",
       "      <td>Japan</td>\n",
       "      <td>35.682194</td>\n",
       "      <td>139.762221</td>\n",
       "      <td>2.894661</td>\n",
       "      <td>10.036215</td>\n",
       "      <td>-4.815157</td>\n",
       "      <td>-2.823524</td>\n",
       "      <td>-5.856339</td>\n",
       "      <td>13.401568</td>\n",
       "      <td>12.151656</td>\n",
       "      <td>-1.179100</td>\n",
       "      <td>8.442621</td>\n",
       "      <td>-0.153326</td>\n",
       "      <td>2.859068</td>\n",
       "      <td>7.926031</td>\n",
       "      <td>3.573698</td>\n",
       "    </tr>\n",
       "    <tr>\n",
       "      <th>Washington</th>\n",
       "      <td>United States</td>\n",
       "      <td>47.286835</td>\n",
       "      <td>-120.212613</td>\n",
       "      <td>-2.020401</td>\n",
       "      <td>4.622085</td>\n",
       "      <td>-6.410817</td>\n",
       "      <td>-9.626633</td>\n",
       "      <td>-9.964925</td>\n",
       "      <td>8.125087</td>\n",
       "      <td>7.582674</td>\n",
       "      <td>-5.590705</td>\n",
       "      <td>1.723661</td>\n",
       "      <td>-5.513428</td>\n",
       "      <td>0.868050</td>\n",
       "      <td>4.966976</td>\n",
       "      <td>-0.936531</td>\n",
       "    </tr>\n",
       "  </tbody>\n",
       "</table>\n",
       "</div>"
      ],
      "text/plain": [
       "                    country   latitude   longitude     April     August  \\\n",
       "city                                                                      \n",
       "Beijing               China  40.190632  116.412144  1.666597   9.256905   \n",
       "Berlin              Germany  52.510885   13.398937 -2.451366   3.193806   \n",
       "London       United Kingdom  51.489334   -0.144055 -3.278695   2.780645   \n",
       "Moscow               Russia  55.750541   37.617478 -2.401818   1.877942   \n",
       "Ottawa               Canada  45.420878  -75.690111 -2.089488   6.815971   \n",
       "Paris                France  48.858890    2.320041 -2.952690   6.077991   \n",
       "Tel-Aviv             Israel  32.085300   34.781806  4.655802  12.374512   \n",
       "Tokyo                 Japan  35.682194  139.762221  2.894661  10.036215   \n",
       "Washington    United States  47.286835 -120.212613 -2.020401   4.622085   \n",
       "\n",
       "             December   February    January       July       June     March  \\\n",
       "city                                                                          \n",
       "Beijing     -6.547273  -7.038749  -4.989609   9.078200   8.501540 -2.205724   \n",
       "Berlin      -8.482733  -9.588800 -11.898705   5.136781   2.318242 -7.756808   \n",
       "London     -11.352898  -8.924196 -11.760394   7.045769   2.845188 -7.376777   \n",
       "Moscow     -10.274029 -12.390120 -10.071659   4.691971   1.864708 -7.703744   \n",
       "Ottawa      -6.968370  -8.751134  -8.860269   6.228271   7.730078 -4.032857   \n",
       "Paris       -8.736168  -8.237314  -8.360604   7.964443   5.979260 -5.494996   \n",
       "Tel-Aviv    -0.282418  -3.098943  -4.077013  11.457310  12.486066  2.451018   \n",
       "Tokyo       -4.815157  -2.823524  -5.856339  13.401568  12.151656 -1.179100   \n",
       "Washington  -6.410817  -9.626633  -9.964925   8.125087   7.582674 -5.590705   \n",
       "\n",
       "                 May  November   October  September  avg_temp  \n",
       "city                                                           \n",
       "Beijing     6.596687 -1.642912  2.929839   5.197379  1.733573  \n",
       "Berlin      2.914297 -7.746957 -4.257373   1.301042 -3.109881  \n",
       "London      0.024794 -7.923894 -2.402406   3.166746 -3.096343  \n",
       "Moscow      1.309235 -8.969021 -5.717417  -0.622184 -4.033845  \n",
       "Ottawa      5.135511 -2.833881  0.001597   2.091613 -0.461080  \n",
       "Paris       1.535585 -6.687701 -2.685679   2.196234 -1.616803  \n",
       "Tel-Aviv    7.622945 -0.806612  5.503775  10.220761  4.875600  \n",
       "Tokyo       8.442621 -0.153326  2.859068   7.926031  3.573698  \n",
       "Washington  1.723661 -5.513428  0.868050   4.966976 -0.936531  "
      ]
     },
     "execution_count": 12,
     "metadata": {},
     "output_type": "execute_result"
    }
   ],
   "source": [
    "cmt = city_mon_temp\n",
    "cmt['avg_temp'] = cmt[months].mean(axis=1)\n",
    "cmt"
   ]
  },
  {
   "cell_type": "code",
   "execution_count": 13,
   "metadata": {},
   "outputs": [
    {
     "name": "stdout",
     "output_type": "stream",
     "text": [
      "City with the highest average temperature of 4.88 is Tel-Aviv\n",
      "City with the lowest average temperature of -4.03 is Moscow\n"
     ]
    }
   ],
   "source": [
    "print(f'City with the highest average temperature of {cmt.loc[cmt.avg_temp.idxmax(), \"avg_temp\"]:.2f} '\n",
    "      f'is {cmt.avg_temp.idxmax()}')\n",
    "print(f'City with the lowest average temperature of {cmt.loc[cmt.avg_temp.idxmin(), \"avg_temp\"]:.2f} '\n",
    "      f'is {cmt.avg_temp.idxmin()}')"
   ]
  },
  {
   "cell_type": "markdown",
   "metadata": {},
   "source": [
    "### 3. Data Visualization"
   ]
  },
  {
   "cell_type": "code",
   "execution_count": 14,
   "metadata": {},
   "outputs": [
    {
     "data": {
      "application/vnd.jupyter.widget-view+json": {
       "model_id": "b50c6d3d195840c2ab06f66a64924ae4",
       "version_major": 2,
       "version_minor": 0
      },
      "text/plain": [
       "VBox(children=(Dropdown(description='City:', options=('All', 'Tel-Aviv', 'London', 'Paris', 'Berlin', 'Tokyo',…"
      ]
     },
     "metadata": {},
     "output_type": "display_data"
    }
   ],
   "source": [
    "import plotly.graph_objects as go\n",
    "from ipywidgets import widgets\n",
    "from IPython.display import display\n",
    "import numpy as np\n",
    "\n",
    "\n",
    "fig = go.FigureWidget(go.Figure())\n",
    "\n",
    "city_val = widgets.Dropdown(\n",
    "    description='City:',\n",
    "    value='All',\n",
    "    options=np.append('All', city_temp.city.unique())\n",
    ")\n",
    "\n",
    "def update_plot(change):\n",
    "    city_name = city_val.value\n",
    "    if city_name == 'All':\n",
    "        temp_trends = city_temp\n",
    "    else:\n",
    "        temp_trends = city_temp[city_temp['city'] == city_name]\n",
    "\n",
    "    fig.data = []\n",
    "\n",
    "    for city in temp_trends.city.unique():\n",
    "        temp_trends_city = temp_trends[temp_trends.city==city]\n",
    "        fig.add_trace(go.Scatter(x=temp_trends_city['month'], y=temp_trends_city['temperature'], name=city, mode='lines', showlegend=True))\n",
    "    \n",
    "    # Horizontal line for average temperature\n",
    "    avg_temp = temp_trends['temperature'].mean()\n",
    "    fig.add_trace(go.Scatter(x=['January', 'December'], \n",
    "                             y=[avg_temp, avg_temp],\n",
    "                             name='Average', \n",
    "                             mode='lines', \n",
    "                             line=dict(color='black', dash='dash')))\n",
    "    fig.update_layout(\n",
    "        title=f'Temperature Trends in {city_name if city_name != \"All\" else \"All Cities\"}',\n",
    "        xaxis_title='Month',\n",
    "        yaxis_title='Temperature',\n",
    "        width=800, height=500\n",
    "    )\n",
    "\n",
    "\n",
    "city_val.observe(update_plot, names='value')\n",
    "\n",
    "display(widgets.VBox([city_val, fig]))\n",
    "\n",
    "update_plot(None)"
   ]
  },
  {
   "cell_type": "code",
   "execution_count": null,
   "metadata": {},
   "outputs": [],
   "source": []
  }
 ],
 "metadata": {
  "kernelspec": {
   "display_name": "di_venv",
   "language": "python",
   "name": "python3"
  },
  "language_info": {
   "codemirror_mode": {
    "name": "ipython",
    "version": 3
   },
   "file_extension": ".py",
   "mimetype": "text/x-python",
   "name": "python",
   "nbconvert_exporter": "python",
   "pygments_lexer": "ipython3",
   "version": "3.12.3"
  }
 },
 "nbformat": 4,
 "nbformat_minor": 2
}
