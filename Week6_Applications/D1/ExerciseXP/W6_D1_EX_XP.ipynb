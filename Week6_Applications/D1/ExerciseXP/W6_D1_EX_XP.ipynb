{
  "nbformat": 4,
  "nbformat_minor": 0,
  "metadata": {
    "colab": {
      "provenance": []
    },
    "kernelspec": {
      "name": "python3",
      "display_name": "Python 3"
    },
    "language_info": {
      "name": "python"
    }
  },
  "cells": [
    {
      "cell_type": "code",
      "execution_count": 3,
      "metadata": {
        "colab": {
          "base_uri": "https://localhost:8080/"
        },
        "id": "fZQwUYjF5gG7",
        "outputId": "e423c9c5-3d58-41e8-cf1d-ee17cb15bf9e"
      },
      "outputs": [
        {
          "output_type": "stream",
          "name": "stdout",
          "text": [
            "[0 1 2 3 4 5 6 7 8 9]\n"
          ]
        }
      ],
      "source": [
        "#I\n",
        "import numpy as np\n",
        "\n",
        "# Creating a 1D array from 0 to 9\n",
        "array_1 = np.arange(10)\n",
        "\n",
        "print(array_1)"
      ]
    },
    {
      "cell_type": "code",
      "source": [
        "#II\n",
        "import numpy as np\n",
        "\n",
        "# List to convert\n",
        "list_data = [3.14, 2.17, 0, 1, 2]\n",
        "\n",
        "# Convert to NumPy array and change data type to integer\n",
        "array_2 = np.array(list_data).astype(int)\n",
        "\n",
        "print(array_2)"
      ],
      "metadata": {
        "colab": {
          "base_uri": "https://localhost:8080/"
        },
        "id": "-1n5fB0c7IAW",
        "outputId": "0375da4e-6b6a-4214-e20c-624ee0c8a0cf"
      },
      "execution_count": 4,
      "outputs": [
        {
          "output_type": "stream",
          "name": "stdout",
          "text": [
            "[3 2 0 1 2]\n"
          ]
        }
      ]
    },
    {
      "cell_type": "code",
      "source": [
        "#III Creating a 3x3 array with values from 1 to 9\n",
        "array_3 = np.arange(1, 10).reshape(3, 3)\n",
        "\n",
        "print(array_3)"
      ],
      "metadata": {
        "colab": {
          "base_uri": "https://localhost:8080/"
        },
        "id": "7LdBQKFr7nWP",
        "outputId": "088427f5-16bd-4d2e-d880-3035842c8c65"
      },
      "execution_count": 5,
      "outputs": [
        {
          "output_type": "stream",
          "name": "stdout",
          "text": [
            "[[1 2 3]\n",
            " [4 5 6]\n",
            " [7 8 9]]\n"
          ]
        }
      ]
    },
    {
      "cell_type": "code",
      "source": [
        "#IV\n",
        "\n",
        "# Creating a 2D array of shape (4, 5) filled with random numbers\n",
        "array_4 = np.random.rand(4, 5)\n",
        "\n",
        "print(array_4)"
      ],
      "metadata": {
        "colab": {
          "base_uri": "https://localhost:8080/"
        },
        "id": "Q1NyXdOE8HnH",
        "outputId": "3540744f-66d6-4b8e-babd-1bda1e2583e1"
      },
      "execution_count": 6,
      "outputs": [
        {
          "output_type": "stream",
          "name": "stdout",
          "text": [
            "[[0.06346195 0.43072106 0.54257513 0.27435269 0.2276171 ]\n",
            " [0.84955116 0.22216804 0.32910062 0.12322809 0.91823348]\n",
            " [0.99116068 0.0533252  0.31606798 0.14077666 0.32524967]\n",
            " [0.02883535 0.45757394 0.71557571 0.24395889 0.34120202]]\n"
          ]
        }
      ]
    },
    {
      "cell_type": "code",
      "source": [
        "#V\n",
        "# Sample 2D array\n",
        "array_5 = np.array([[10, 11, 12, 13, 14],\n",
        "                  [20, 21, 22, 23, 24],\n",
        "                  [30, 31, 32, 33, 34]])\n",
        "\n",
        "# Select the second row (index 1)\n",
        "second_row = array_5[1]\n",
        "\n",
        "print(second_row)"
      ],
      "metadata": {
        "colab": {
          "base_uri": "https://localhost:8080/"
        },
        "id": "cH5Ws7HS8bTx",
        "outputId": "ff7e3c8e-930c-4e0d-f756-cf0cb4b2a30c"
      },
      "execution_count": 7,
      "outputs": [
        {
          "output_type": "stream",
          "name": "stdout",
          "text": [
            "[20 21 22 23 24]\n"
          ]
        }
      ]
    },
    {
      "cell_type": "code",
      "source": [
        "#VI\n",
        "# Creating a 1D array from 0 to 9\n",
        "array_6 = np.arange(10)\n",
        "\n",
        "# Reversing the array\n",
        "reversed_array = array_6[::-1]\n",
        "\n",
        "print(reversed_array)"
      ],
      "metadata": {
        "colab": {
          "base_uri": "https://localhost:8080/"
        },
        "id": "uS1NFL2j8sEZ",
        "outputId": "11ea2ec9-1038-413b-e43a-d70a8b232a00"
      },
      "execution_count": 8,
      "outputs": [
        {
          "output_type": "stream",
          "name": "stdout",
          "text": [
            "[9 8 7 6 5 4 3 2 1 0]\n"
          ]
        }
      ]
    },
    {
      "cell_type": "code",
      "source": [
        "#VII\n",
        "# Creating a 4x4 identity matrix\n",
        "identity_matrix = np.eye(4)\n",
        "\n",
        "print(identity_matrix)"
      ],
      "metadata": {
        "colab": {
          "base_uri": "https://localhost:8080/"
        },
        "id": "NTZ31jGD867-",
        "outputId": "3f10511f-215b-4daf-a834-a3a7e929b7a4"
      },
      "execution_count": 11,
      "outputs": [
        {
          "output_type": "stream",
          "name": "stdout",
          "text": [
            "[[1. 0. 0. 0.]\n",
            " [0. 1. 0. 0.]\n",
            " [0. 0. 1. 0.]\n",
            " [0. 0. 0. 1.]]\n"
          ]
        }
      ]
    },
    {
      "cell_type": "code",
      "source": [
        "#VII - B\n",
        "# Creating a 4x4 identity matrix with integer values\n",
        "identity_matrix = np.eye(4, dtype=int)\n",
        "\n",
        "print(identity_matrix)"
      ],
      "metadata": {
        "colab": {
          "base_uri": "https://localhost:8080/"
        },
        "id": "jKz4Xum69GSz",
        "outputId": "bbfb1c86-3d58-4d6b-81c1-ad42c29e5b13"
      },
      "execution_count": 12,
      "outputs": [
        {
          "output_type": "stream",
          "name": "stdout",
          "text": [
            "[[1 0 0 0]\n",
            " [0 1 0 0]\n",
            " [0 0 1 0]\n",
            " [0 0 0 1]]\n"
          ]
        }
      ]
    },
    {
      "cell_type": "code",
      "source": [
        "#VIII\n",
        "# Creating a 1D array from 0 to 9\n",
        "array_8 = np.arange(10)\n",
        "\n",
        "# Calculating the sum\n",
        "sum_of_array = np.sum(array_8)\n",
        "\n",
        "# Calculating the average (mean)\n",
        "average_of_array = np.mean(array_8)\n",
        "\n",
        "print(f\"Sum: {sum_of_array}, Average: {average_of_array}\")"
      ],
      "metadata": {
        "colab": {
          "base_uri": "https://localhost:8080/"
        },
        "id": "_dv24jZH9bwe",
        "outputId": "2a90381b-c5e1-421a-a32b-08d3f5d4cf48"
      },
      "execution_count": 13,
      "outputs": [
        {
          "output_type": "stream",
          "name": "stdout",
          "text": [
            "Sum: 45, Average: 4.5\n"
          ]
        }
      ]
    },
    {
      "cell_type": "code",
      "source": [
        "#IX\n",
        "\n",
        "# Creating a 1D array with elements from 1 to 20\n",
        "array_9 = np.arange(1, 21)\n",
        "\n",
        "# Reshaping it into a 4x5 matrix\n",
        "reshaped_array = array_9.reshape(4, 5)\n",
        "\n",
        "print(reshaped_array)"
      ],
      "metadata": {
        "colab": {
          "base_uri": "https://localhost:8080/"
        },
        "id": "jkq-gtps-QIU",
        "outputId": "8e83cbb2-7625-4d9b-8b60-27e8a204b343"
      },
      "execution_count": 14,
      "outputs": [
        {
          "output_type": "stream",
          "name": "stdout",
          "text": [
            "[[ 1  2  3  4  5]\n",
            " [ 6  7  8  9 10]\n",
            " [11 12 13 14 15]\n",
            " [16 17 18 19 20]]\n"
          ]
        }
      ]
    },
    {
      "cell_type": "code",
      "source": [
        "#IX - B\n",
        "# Reshaping the 4x5 matrix back into a 1D array\n",
        "reshaped_back_to_1d = reshaped_array.reshape(-1)\n",
        "\n",
        "print(reshaped_back_to_1d)"
      ],
      "metadata": {
        "colab": {
          "base_uri": "https://localhost:8080/"
        },
        "id": "Z-5bFXFt-iCi",
        "outputId": "1036f757-3912-4429-b0b3-386b9bd2152c"
      },
      "execution_count": 15,
      "outputs": [
        {
          "output_type": "stream",
          "name": "stdout",
          "text": [
            "[ 1  2  3  4  5  6  7  8  9 10 11 12 13 14 15 16 17 18 19 20]\n"
          ]
        }
      ]
    },
    {
      "cell_type": "code",
      "source": [
        "#X\n",
        "\n",
        "# Creating a 1D array from 0 to 9\n",
        "array_10 = np.arange(10)\n",
        "\n",
        "# Extracting all odd numbers using a condition\n",
        "odd_numbers = array_10[array_10 % 2 != 0]\n",
        "\n",
        "print(odd_numbers)"
      ],
      "metadata": {
        "colab": {
          "base_uri": "https://localhost:8080/"
        },
        "id": "8C0fzhn7-sFr",
        "outputId": "2f49546c-3b7f-4187-e8b6-38c8ede74e75"
      },
      "execution_count": 16,
      "outputs": [
        {
          "output_type": "stream",
          "name": "stdout",
          "text": [
            "[1 3 5 7 9]\n"
          ]
        }
      ]
    },
    {
      "cell_type": "code",
      "source": [
        "#I Gold\n",
        "\n",
        "# Creating a 5x5 array with random values between 0 and 1\n",
        "random_array = np.random.rand(5, 5)\n",
        "\n",
        "# Finding the minimum and maximum values\n",
        "min_value = np.min(random_array)\n",
        "max_value = np.max(random_array)\n",
        "\n",
        "print(f\"Min: {min_value:.2f}, Max: {max_value:.2f}\")"
      ],
      "metadata": {
        "colab": {
          "base_uri": "https://localhost:8080/"
        },
        "id": "lh0BkzwM-zSJ",
        "outputId": "716ca928-2ea8-45e2-d56a-59ce4aef8843"
      },
      "execution_count": 17,
      "outputs": [
        {
          "output_type": "stream",
          "name": "stdout",
          "text": [
            "Min: 0.08, Max: 0.98\n"
          ]
        }
      ]
    },
    {
      "cell_type": "code",
      "source": [
        "#II Gold\n",
        "\n",
        "# Creating a 3x3 matrix with random values\n",
        "matrix = np.random.rand(3, 3)\n",
        "\n",
        "# Calculate the mean and standard deviation of the matrix\n",
        "mean = np.mean(matrix)\n",
        "std_dev = np.std(matrix)\n",
        "\n",
        "# Normalize the matrix\n",
        "normalized_matrix = (matrix - mean) / std_dev\n",
        "\n",
        "print(normalized_matrix)"
      ],
      "metadata": {
        "colab": {
          "base_uri": "https://localhost:8080/"
        },
        "id": "yHpBi6QdAagh",
        "outputId": "20a5939a-ee2d-4793-8b2a-2e8f0196c427"
      },
      "execution_count": 18,
      "outputs": [
        {
          "output_type": "stream",
          "name": "stdout",
          "text": [
            "[[-1.5837276   2.16988763  0.11526376]\n",
            " [ 0.39788593 -0.64904479 -0.1843387 ]\n",
            " [-0.9427647   0.19932339  0.47751508]]\n"
          ]
        }
      ]
    },
    {
      "cell_type": "code",
      "source": [
        "#III Gold\n",
        "# Creating a 1D array of 50 evenly spaced elements between 0 and 10 (inclusive)\n",
        "evenly_spaced_array = np.linspace(0, 10, 50)\n",
        "\n",
        "print(evenly_spaced_array)"
      ],
      "metadata": {
        "colab": {
          "base_uri": "https://localhost:8080/"
        },
        "id": "aQ4Dj4CRA-8O",
        "outputId": "10fe174e-ac78-403c-f2d3-ac10aa3ba23d"
      },
      "execution_count": 19,
      "outputs": [
        {
          "output_type": "stream",
          "name": "stdout",
          "text": [
            "[ 0.          0.20408163  0.40816327  0.6122449   0.81632653  1.02040816\n",
            "  1.2244898   1.42857143  1.63265306  1.83673469  2.04081633  2.24489796\n",
            "  2.44897959  2.65306122  2.85714286  3.06122449  3.26530612  3.46938776\n",
            "  3.67346939  3.87755102  4.08163265  4.28571429  4.48979592  4.69387755\n",
            "  4.89795918  5.10204082  5.30612245  5.51020408  5.71428571  5.91836735\n",
            "  6.12244898  6.32653061  6.53061224  6.73469388  6.93877551  7.14285714\n",
            "  7.34693878  7.55102041  7.75510204  7.95918367  8.16326531  8.36734694\n",
            "  8.57142857  8.7755102   8.97959184  9.18367347  9.3877551   9.59183673\n",
            "  9.79591837 10.        ]\n"
          ]
        }
      ]
    },
    {
      "cell_type": "code",
      "source": [
        "#IV\n",
        "matrix_1 = np.random.rand(5, 3)\n",
        "\n",
        "# Creating a 3x2 matrix\n",
        "matrix_2 = np.random.rand(3, 2)\n",
        "\n",
        "# Performing matrix multiplication\n",
        "result = np.dot(matrix_1, matrix_2)  # Alternatively, you can use: result = matrix_1 @ matrix_2\n",
        "\n",
        "print(result)"
      ],
      "metadata": {
        "colab": {
          "base_uri": "https://localhost:8080/"
        },
        "id": "hY8CXN5XBtx5",
        "outputId": "84347c55-a6c2-469a-f812-15e3fbdeea16"
      },
      "execution_count": 20,
      "outputs": [
        {
          "output_type": "stream",
          "name": "stdout",
          "text": [
            "[[0.69335904 0.60136332]\n",
            " [0.37362741 0.33271656]\n",
            " [0.93406762 0.82818029]\n",
            " [0.76291651 0.80494243]\n",
            " [0.82549228 0.71866707]]\n"
          ]
        }
      ]
    },
    {
      "cell_type": "code",
      "source": [
        "# Creating a 4x2 matrix\n",
        "matrix_A = np.random.rand(4, 2)\n",
        "\n",
        "# Creating a 2x3 matrix\n",
        "matrix_B = np.random.rand(2, 3)\n",
        "\n",
        "# Performing matrix multiplication\n",
        "result = np.dot(matrix_A, matrix_B)  # Alternatively, you can use: result = matrix_A @ matrix_B\n",
        "\n",
        "# Displaying the result\n",
        "print(\"Matrix A (4x2):\")\n",
        "print(matrix_A)\n",
        "print(\"\\nMatrix B (2x3):\")\n",
        "print(matrix_B)\n",
        "print(\"\\nResult of Matrix A * Matrix B (4x3):\")\n",
        "print(result)"
      ],
      "metadata": {
        "colab": {
          "base_uri": "https://localhost:8080/"
        },
        "id": "UWhTvERkBvmC",
        "outputId": "b1703d7c-2cf5-4765-d22a-a593f306a549"
      },
      "execution_count": 21,
      "outputs": [
        {
          "output_type": "stream",
          "name": "stdout",
          "text": [
            "Matrix A (4x2):\n",
            "[[0.74071691 0.20378705]\n",
            " [0.64516475 0.3784599 ]\n",
            " [0.75568512 0.11078467]\n",
            " [0.65509791 0.04578997]]\n",
            "\n",
            "Matrix B (2x3):\n",
            "[[0.86663428 0.53343717 0.38598873]\n",
            " [0.30904579 0.95327696 0.42791385]]\n",
            "\n",
            "Result of Matrix A * Matrix B (4x3):\n",
            "[[0.70491019 0.58939143 0.37311168]\n",
            " [0.67608332 0.70493196 0.41097456]\n",
            " [0.68914016 0.508719   0.33909223]\n",
            " [0.5818815  0.3931041  0.27245458]]\n"
          ]
        }
      ]
    }
  ]
}